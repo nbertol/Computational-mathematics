{
 "cells": [
  {
   "cell_type": "markdown",
   "id": "ca793caf",
   "metadata": {},
   "source": [
    "# I. ПОГРЕШНОСТИ ВЫЧИСЛЕНИЙ\n",
    "![ii1.png](ii1.png)\n",
    "![ii2.png](ii2.png)\n",
    "\n",
    "### Before calculate the Euler's constant lets check the epsilon for the error"
   ]
  },
  {
   "cell_type": "code",
   "execution_count": 4,
   "id": "59ba0454-1296-4ecf-8738-fb0eff8a0949",
   "metadata": {},
   "outputs": [
    {
     "name": "stdout",
     "output_type": "stream",
     "text": [
      "2.220446049250313e-16\n"
     ]
    }
   ],
   "source": [
    "import sys\n",
    "x = sys.float_info.epsilon\n",
    "print(x)"
   ]
  },
  {
   "cell_type": "code",
   "execution_count": 11,
   "id": "ad622c9d-a5fe-41f7-93a4-bf298906b14f",
   "metadata": {},
   "outputs": [
    {
     "name": "stdout",
     "output_type": "stream",
     "text": [
      "1.1102230246251565e-16\n",
      "<class 'float'>\n"
     ]
    }
   ],
   "source": [
    "eps = 1\n",
    "while (eps+1 != 1) : \n",
    "    eps = eps/2 \n",
    "\n",
    "print(eps)\n",
    "print(type(eps))"
   ]
  },
  {
   "cell_type": "code",
   "execution_count": 10,
   "id": "0cc9ab39-903d-4b4b-be03-4a520f0c2b90",
   "metadata": {},
   "outputs": [
    {
     "name": "stdout",
     "output_type": "stream",
     "text": [
      "2.220446049250313e-16\n"
     ]
    },
    {
     "data": {
      "text/plain": [
       "float"
      ]
     },
     "execution_count": 10,
     "metadata": {},
     "output_type": "execute_result"
    }
   ],
   "source": [
    "print(eps*2)\n",
    "type(eps)\n",
    "\n",
    "#float 32 by default python"
   ]
  },
  {
   "cell_type": "code",
   "execution_count": 7,
   "id": "16970f29-86d8-479e-aa4c-f172d1532bda",
   "metadata": {},
   "outputs": [
    {
     "name": "stdout",
     "output_type": "stream",
     "text": [
      "1.1102230246251565e-16\n",
      "<class 'numpy.float64'>\n"
     ]
    }
   ],
   "source": [
    "import numpy as np\n",
    "# eps = 1\n",
    "eps = np.float32(1) \n",
    "while (eps+np.float32(1) != np.float32(1)) : \n",
    "    eps = eps/2 \n",
    "\n",
    "print(eps)\n",
    "print(type(eps))"
   ]
  },
  {
   "cell_type": "code",
   "execution_count": 5,
   "id": "fd0dca07-bd51-42dd-9c59-c26d4aa0dddc",
   "metadata": {},
   "outputs": [
    {
     "name": "stdout",
     "output_type": "stream",
     "text": [
      "1.1102230246251565e-16\n",
      "<class 'numpy.float64'>\n"
     ]
    }
   ],
   "source": [
    "import numpy as np\n",
    "eps = 1\n",
    "eps = np.float64(eps)\n",
    "while (eps+np.float64(1) != np.float64(1)) : \n",
    "    eps = eps/2 \n",
    "\n",
    "print(eps)\n",
    "print(type(eps))"
   ]
  },
  {
   "cell_type": "code",
   "execution_count": 15,
   "id": "dc09c26c-b182-4ba5-9eba-5a5b47563d9f",
   "metadata": {},
   "outputs": [],
   "source": [
    "def machineEpsilon(func=float):\n",
    "    machine_epsilon = func(1)\n",
    "    while func(1)+func(machine_epsilon) != func(1):\n",
    "        machine_epsilon_last = machine_epsilon\n",
    "        machine_epsilon = func(machine_epsilon) / func(2)\n",
    "    return machine_epsilon_last"
   ]
  },
  {
   "cell_type": "code",
   "execution_count": 18,
   "id": "60c4efed-bcff-4607-8f9e-7da7c7b7ee09",
   "metadata": {},
   "outputs": [
    {
     "name": "stdout",
     "output_type": "stream",
     "text": [
      "1.1920929e-07\n",
      "2.220446049250313e-16\n"
     ]
    }
   ],
   "source": [
    "print(machineEpsilon(np.float32))\n",
    "print(machineEpsilon(np.float64))\n"
   ]
  },
  {
   "cell_type": "markdown",
   "id": "e63cc4f4-11c5-4449-ba5e-4613a968cf66",
   "metadata": {},
   "source": [
    "### And finally calculate our constant $$ C = \\lim_{n\\rightarrow \\infty}\\sum_{k=1}^{n}1/k - ln(n) $$"
   ]
  },
  {
   "cell_type": "code",
   "execution_count": 1,
   "id": "c01ba83a-0143-4b9d-afe7-042936c223eb",
   "metadata": {},
   "outputs": [
    {
     "name": "stdout",
     "output_type": "stream",
     "text": [
      "for n: 11000000 the euler's number is: 0.5772157103534283 the error is: 4.545242837661334e-08\n",
      "for n: 12000000 the euler's number is: 0.5772157065660544 the error is: 4.166505440661439e-08\n",
      "for n: 13000000 the euler's number is: 0.5772157033607002 the error is: 3.845970020233125e-08\n",
      "for n: 14000000 the euler's number is: 0.5772157006150387 the error is: 3.571403872637546e-08\n",
      "for n: 15000000 the euler's number is: 0.5772156982339922 the error is: 3.3332992255274974e-08\n",
      "for n: 16000000 the euler's number is: 0.577215696150045 the error is: 3.1249045018277855e-08\n",
      "for n: 17000000 the euler's number is: 0.5772156943100732 the error is: 2.9409073287745002e-08\n",
      "for n: 18000000 the euler's number is: 0.5772156926760559 the error is: 2.7775055921885894e-08\n",
      "for n: 19000000 the euler's number is: 0.5772156912143629 the error is: 2.6313362933017004e-08\n",
      "for n: 20000000 the euler's number is: 0.5772156898988392 the error is: 2.4997839243035003e-08\n",
      "for n: 21000000 the euler's number is: 0.577215688707728 the error is: 2.3806728033370916e-08\n",
      "for n: 22000000 the euler's number is: 0.5772156876257206 the error is: 2.2724720660782793e-08\n",
      "for n: 23000000 the euler's number is: 0.5772156866375511 the error is: 2.1736551114592828e-08\n",
      "for n: 24000000 the euler's number is: 0.577215685730355 the error is: 2.0829355018570084e-08\n",
      "for n: 25000000 the euler's number is: 0.5772156848974035 the error is: 1.9996403533006912e-08\n",
      "for n: 26000000 the euler's number is: 0.5772156841284222 the error is: 1.9227422209944223e-08\n",
      "for n: 27000000 the euler's number is: 0.5772156834167177 the error is: 1.8515717736811155e-08\n",
      "for n: 28000000 the euler's number is: 0.577215682755412 the error is: 1.785441205992555e-08\n",
      "for n: 29000000 the euler's number is: 0.5772156821393821 the error is: 1.723838216616258e-08\n",
      "for n: 30000000 the euler's number is: 0.5772156815632741 the error is: 1.666227411600829e-08\n",
      "for n: 31000000 the euler's number is: 0.5772156810257556 the error is: 1.6124755641833133e-08\n",
      "for n: 32000000 the euler's number is: 0.5772156805214053 the error is: 1.5620405302563256e-08\n",
      "for n: 33000000 the euler's number is: 0.5772156800484751 the error is: 1.514747516306869e-08\n",
      "for n: 34000000 the euler's number is: 0.5772156796052528 the error is: 1.4704252815356256e-08\n",
      "for n: 35000000 the euler's number is: 0.5772156791852083 the error is: 1.4284208371684315e-08\n",
      "for n: 36000000 the euler's number is: 0.5772156787882459 the error is: 1.3887245908783541e-08\n",
      "for n: 37000000 the euler's number is: 0.5772156784129479 the error is: 1.3511947893896092e-08\n",
      "for n: 38000000 the euler's number is: 0.5772156780572324 the error is: 1.3156232436806192e-08\n",
      "for n: 39000000 the euler's number is: 0.5772156777199058 the error is: 1.2818905825717763e-08\n",
      "for n: 40000000 the euler's number is: 0.5772156773998525 the error is: 1.2498852508535663e-08\n",
      "for n: 41000000 the euler's number is: 0.5772156770951469 the error is: 1.219414691444598e-08\n",
      "for n: 42000000 the euler's number is: 0.577215676806432 the error is: 1.1905432084624579e-08\n",
      "for n: 43000000 the euler's number is: 0.5772156765296437 the error is: 1.162864371462291e-08\n",
      "for n: 44000000 the euler's number is: 0.5772156762651051 the error is: 1.1364105101385746e-08\n",
      "for n: 45000000 the euler's number is: 0.5772156760126919 the error is: 1.1111691899934328e-08\n",
      "for n: 46000000 the euler's number is: 0.5772156757711393 the error is: 1.0870139344199004e-08\n",
      "for n: 47000000 the euler's number is: 0.5772156755400353 the error is: 1.0639035319393031e-08\n",
      "for n: 48000000 the euler's number is: 0.5772156753177562 the error is: 1.0416756235365199e-08\n",
      "for n: 49000000 the euler's number is: 0.5772156751048421 the error is: 1.0203842104594685e-08\n",
      "for n: 50000000 the euler's number is: 0.5772156749008772 the error is: 9.99987725958107e-09\n",
      "for n: 51000000 the euler's number is: 0.5772156747044086 the error is: 9.803408640429723e-09\n",
      "for n: 52000000 the euler's number is: 0.5772156745160721 the error is: 9.61507218288915e-09\n",
      "for n: 53000000 the euler's number is: 0.5772156743344823 the error is: 9.43348232862462e-09\n",
      "for n: 54000000 the euler's number is: 0.5772156741594294 the error is: 9.258429467529083e-09\n",
      "for n: 55000000 the euler's number is: 0.5772156739909633 the error is: 9.089963337594043e-09\n",
      "for n: 56000000 the euler's number is: 0.5772156738283094 the error is: 8.92730944723752e-09\n",
      "for n: 57000000 the euler's number is: 0.577215673671418 the error is: 8.77041805846801e-09\n",
      "for n: 58000000 the euler's number is: 0.5772156735201683 the error is: 8.619168379020437e-09\n",
      "for n: 59000000 the euler's number is: 0.5772156733746883 the error is: 8.473688306587235e-09\n",
      "for n: 60000000 the euler's number is: 0.5772156732332903 the error is: 8.332290302170975e-09\n",
      "for n: 61000000 the euler's number is: 0.5772156730965179 the error is: 8.195517930964513e-09\n",
      "for n: 62000000 the euler's number is: 0.5772156729642113 the error is: 8.063211320852304e-09\n",
      "for n: 63000000 the euler's number is: 0.5772156728363882 the error is: 7.93538823540274e-09\n",
      "for n: 64000000 the euler's number is: 0.5772156727125051 the error is: 7.811505109422967e-09\n",
      "for n: 65000000 the euler's number is: 0.5772156725919437 the error is: 7.690943770732872e-09\n",
      "for n: 66000000 the euler's number is: 0.5772156724752939 the error is: 7.574293969803136e-09\n",
      "for n: 67000000 the euler's number is: 0.57721567236214 the error is: 7.46114003913334e-09\n",
      "for n: 68000000 the euler's number is: 0.5772156722530077 the error is: 7.352007780347947e-09\n",
      "for n: 69000000 the euler's number is: 0.5772156721464938 the error is: 7.245493871543829e-09\n",
      "for n: 70000000 the euler's number is: 0.5772156720426587 the error is: 7.141658708853527e-09\n",
      "for n: 71000000 the euler's number is: 0.5772156719422874 the error is: 7.041287442000055e-09\n",
      "for n: 72000000 the euler's number is: 0.5772156718443888 the error is: 6.943388863867028e-09\n",
      "for n: 73000000 the euler's number is: 0.5772156717492365 the error is: 6.8482365334077144e-09\n",
      "for n: 74000000 the euler's number is: 0.5772156716565071 the error is: 6.7555071536773426e-09\n",
      "for n: 75000000 the euler's number is: 0.5772156715664707 the error is: 6.6654707309155015e-09\n",
      "for n: 76000000 the euler's number is: 0.5772156714785375 the error is: 6.57753751465151e-09\n",
      "for n: 77000000 the euler's number is: 0.5772156713935814 the error is: 6.492581472450354e-09\n",
      "for n: 78000000 the euler's number is: 0.5772156713102525 the error is: 6.409252573114088e-09\n",
      "for n: 79000000 the euler's number is: 0.5772156712289416 the error is: 6.327941615147381e-09\n",
      "for n: 80000000 the euler's number is: 0.5772156711498369 the error is: 6.248836892375209e-09\n",
      "for n: 81000000 the euler's number is: 0.5772156710729384 the error is: 6.171938404797572e-09\n",
      "for n: 82000000 the euler's number is: 0.5772156709975249 the error is: 6.096524951537674e-09\n",
      "for n: 83000000 the euler's number is: 0.5772156709245273 the error is: 6.02352734357936e-09\n",
      "for n: 84000000 the euler's number is: 0.5772156708526985 the error is: 5.951698578421372e-09\n",
      "for n: 85000000 the euler's number is: 0.577215670782742 the error is: 5.881742093372111e-09\n"
     ]
    },
    {
     "ename": "KeyboardInterrupt",
     "evalue": "",
     "output_type": "error",
     "traceback": [
      "\u001b[1;31m---------------------------------------------------------------------------\u001b[0m",
      "\u001b[1;31mKeyboardInterrupt\u001b[0m                         Traceback (most recent call last)",
      "Input \u001b[1;32mIn [1]\u001b[0m, in \u001b[0;36m<cell line: 10>\u001b[1;34m()\u001b[0m\n\u001b[0;32m     12\u001b[0m soma \u001b[38;5;241m=\u001b[39m \u001b[38;5;241m0\u001b[39m\n\u001b[0;32m     13\u001b[0m lista \u001b[38;5;241m=\u001b[39m [\u001b[38;5;241m1\u001b[39m\u001b[38;5;241m/\u001b[39mk \u001b[38;5;28;01mfor\u001b[39;00m k \u001b[38;5;129;01min\u001b[39;00m \u001b[38;5;28mrange\u001b[39m(\u001b[38;5;241m1\u001b[39m, n\u001b[38;5;241m+\u001b[39m\u001b[38;5;241m1\u001b[39m)]\n\u001b[1;32m---> 14\u001b[0m soma \u001b[38;5;241m=\u001b[39m \u001b[38;5;28msum\u001b[39m(lista)\n\u001b[0;32m     15\u001b[0m const \u001b[38;5;241m=\u001b[39m soma \u001b[38;5;241m-\u001b[39m np\u001b[38;5;241m.\u001b[39mlog(n)\n\u001b[0;32m     16\u001b[0m error \u001b[38;5;241m=\u001b[39m np\u001b[38;5;241m.\u001b[39mfabs(const_true \u001b[38;5;241m-\u001b[39m const)\n",
      "\u001b[1;31mKeyboardInterrupt\u001b[0m: "
     ]
    }
   ],
   "source": [
    "import numpy as np\n",
    "\n",
    "error = 10.0\n",
    "k = 1\n",
    "const = 0.0 \n",
    "const_true = 0.577215664901\n",
    "n = 10000000\n",
    "\n",
    "while np.fabs(error) > 10**(-12):\n",
    "    n = n + 1000000\n",
    "    soma = 0\n",
    "    lista = [1/k for k in range(1, n+1)]\n",
    "    soma = sum(lista)\n",
    "    const = soma - np.log(n)\n",
    "    error = np.fabs(const_true - const)\n",
    "    print(\"for n:\", n,\"the euler's number is:\", const, \"the error is:\", error)\n",
    "    \n",
    "    "
   ]
  },
  {
   "cell_type": "markdown",
   "id": "8221c7ab-4100-4f1b-b1f4-a92d8b9ff834",
   "metadata": {},
   "source": [
    "Для представления данных одинарной точности\n",
    "отводится 32 бита, тогда один бит отводится под знак числа s, 23 бита\n",
    "отводится под мантиссу экспоненты и 8 бит под показатель:\n",
    "а значит, чтобы вычитать машинный episilon нам нужна только мантисса \n",
    "тогда: \n",
    "\n",
    "\n",
    "$2^{-23} = 1.19.10^{-7} $\n",
    "\n",
    "для 64 битов: 1 бит отводится под знак, 52 под мантиссу и 11 бит под показатель\n",
    "\n",
    "\n",
    "$2^{-52} = 2.22.10^{-16}$\n",
    "\n",
    "как видно из примеров вычисления.\n"
   ]
  },
  {
   "cell_type": "code",
   "execution_count": null,
   "id": "8e3bdcc3-57d8-4a4f-85ee-45ae26420b7b",
   "metadata": {},
   "outputs": [],
   "source": []
  }
 ],
 "metadata": {
  "kernelspec": {
   "display_name": "Python 3 (ipykernel)",
   "language": "python",
   "name": "python3"
  },
  "language_info": {
   "codemirror_mode": {
    "name": "ipython",
    "version": 3
   },
   "file_extension": ".py",
   "mimetype": "text/x-python",
   "name": "python",
   "nbconvert_exporter": "python",
   "pygments_lexer": "ipython3",
   "version": "3.9.12"
  }
 },
 "nbformat": 4,
 "nbformat_minor": 5
}
