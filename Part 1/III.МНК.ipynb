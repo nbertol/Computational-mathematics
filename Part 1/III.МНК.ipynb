{
 "cells": [
  {
   "cell_type": "markdown",
   "id": "1d6a5e87-1ec0-4342-a1ae-c49b72a591bb",
   "metadata": {
    "tags": []
   },
   "source": [
    "# III. МЕТОД НАИМЕНЬШИХ КВАДРАТОВ\n",
    "\n",
    "![iii1.png](iii1.png)\n",
    "![iii2.png](iii2.png)\n",
    "## $$ a)\\ f(x) = \\sum_{n=0}^{N}c_nx^n $$"
   ]
  },
  {
   "cell_type": "code",
   "execution_count": 2,
   "id": "e2b623ec-5c62-4fca-a704-e16ca0aed1c7",
   "metadata": {
    "tags": []
   },
   "outputs": [],
   "source": [
    "import numpy as np"
   ]
  },
  {
   "cell_type": "code",
   "execution_count": 6,
   "id": "b8a0d149-00a9-496f-a975-e57857cd38a3",
   "metadata": {},
   "outputs": [],
   "source": [
    "real_value_2010=308745538"
   ]
  },
  {
   "cell_type": "code",
   "execution_count": 38,
   "id": "66003538-a71d-4084-b460-c6286280b14f",
   "metadata": {
    "tags": []
   },
   "outputs": [
    {
     "name": "stdout",
     "output_type": "stream",
     "text": [
      "степен N=2: [ 2.03643519e+11 -2.07160698e+08  5.27398250e+04]\n"
     ]
    }
   ],
   "source": [
    "A = np.array([[1, 1980, 1980**2], [1, 1990, 1990**2], [1, 2000, 2000**2]])\n",
    "B = np.array([226545805, 248709873, 281421906])\n",
    "a2 = np.linalg.solve(A,B)\n",
    "print('степен N=2:',a2)"
   ]
  },
  {
   "cell_type": "code",
   "execution_count": 17,
   "id": "5c2223fc-2d79-4bba-aa77-1784cdcb8e2f",
   "metadata": {},
   "outputs": [
    {
     "name": "stdout",
     "output_type": "stream",
     "text": [
      "prediction: 324681903.9999695\n"
     ]
    }
   ],
   "source": [
    "x=np.array([1, 2010,2010**2])\n",
    "result=np.dot(a2,x)\n",
    "print('prediction:',result)"
   ]
  },
  {
   "cell_type": "code",
   "execution_count": 18,
   "id": "9556a479-ecc4-4dfc-85b1-265f561f2e77",
   "metadata": {},
   "outputs": [
    {
     "name": "stdout",
     "output_type": "stream",
     "text": [
      "error: 0.05161650627634166\n"
     ]
    }
   ],
   "source": [
    "print('error:',np.abs((real_value_2010-result)/real_value_2010))"
   ]
  },
  {
   "cell_type": "code",
   "execution_count": 39,
   "id": "a6d77c8f-9959-4931-bea3-46eeb863f8be",
   "metadata": {},
   "outputs": [
    {
     "name": "stdout",
     "output_type": "stream",
     "text": [
      "степен N=3: [-1.51864835e+13  2.29944264e+10 -1.16064473e+07  1.95296267e+03]\n"
     ]
    }
   ],
   "source": [
    "A = np.array([[1, 1970, 1970**2, 1970**3], [1, 1980, 1980**2, 1980**3], [1, 1990, 1990**2, 1990**3], [1, 2000, 2000**2, 2000**3]])\n",
    "B = np.array([203211926, 226545805, 248709873, 281421906])\n",
    "a3 = np.linalg.solve(A,B)\n",
    "print('степен N=3:',a3)"
   ]
  },
  {
   "cell_type": "code",
   "execution_count": 52,
   "id": "487277f2-f10d-441c-a253-b85f47b559a3",
   "metadata": {},
   "outputs": [
    {
     "name": "stdout",
     "output_type": "stream",
     "text": [
      "prediction: 336399680.0\n"
     ]
    }
   ],
   "source": [
    "x=np.array([1, 2010,2010**2,2010**3])\n",
    "result=np.dot(a3,x)\n",
    "print('prediction:',result)"
   ]
  },
  {
   "cell_type": "code",
   "execution_count": 53,
   "id": "bb44783c-17e9-4aeb-bc36-144e83a61647",
   "metadata": {},
   "outputs": [
    {
     "name": "stdout",
     "output_type": "stream",
     "text": [
      "error: 0.08956936569557808\n"
     ]
    }
   ],
   "source": [
    "print('error:',np.abs((real_value_2010-result)/real_value_2010))"
   ]
  },
  {
   "cell_type": "code",
   "execution_count": 55,
   "id": "635311c8-689c-4991-b06c-88416dc4ee15",
   "metadata": {},
   "outputs": [
    {
     "name": "stdout",
     "output_type": "stream",
     "text": [
      "степен N=4 [ 7.82554570e+14 -1.58459522e+12  1.20322251e+09 -4.06054359e+05\n",
      "  5.13863125e+01]\n"
     ]
    }
   ],
   "source": [
    "A = np.array([[1, 1960, 1960**2, 1960**3,1960**4], [1, 1970, 1970**2, 1970**3,1970**4], [1, 1980, 1980**2, 1980**3, 1980**4], [1, 1990, 1990**2, 1990**3, 1990**4], [1, 2000, 2000**2, 2000**3, 2000**4]])\n",
    "B = np.array([179323175, 203211926, 226545805, 248709873, 281421906])\n",
    "a4 = np.linalg.solve(A,B)\n",
    "print('степен N=4',a4)"
   ]
  },
  {
   "cell_type": "code",
   "execution_count": 58,
   "id": "04b95ffe-82de-409e-b38b-7ce6de66e0ee",
   "metadata": {},
   "outputs": [
    {
     "name": "stdout",
     "output_type": "stream",
     "text": [
      "prediction: 348732394.5\n"
     ]
    }
   ],
   "source": [
    "x=np.array([1, 2010,2010**2,2010**3,2010**4])\n",
    "result=np.dot(a4,x)\n",
    "print('prediction:',result)"
   ]
  },
  {
   "cell_type": "code",
   "execution_count": 59,
   "id": "73d20c69-4749-4e65-b50c-807dd2351e51",
   "metadata": {},
   "outputs": [
    {
     "name": "stdout",
     "output_type": "stream",
     "text": [
      "error: 0.12951395754260261\n"
     ]
    }
   ],
   "source": [
    "print('error:',np.abs((real_value_2010-result)/real_value_2010))"
   ]
  },
  {
   "cell_type": "code",
   "execution_count": 56,
   "id": "609f800a-0880-4e8c-9fe3-f7bec280a9d4",
   "metadata": {},
   "outputs": [
    {
     "name": "stdout",
     "output_type": "stream",
     "text": [
      "степен N=5 [-4.10592493e+16  1.04081917e+14 -1.05534712e+11  5.35033685e+07\n",
      " -1.35622779e+04  1.37511760e+00]\n"
     ]
    }
   ],
   "source": [
    "A = np.array([[1, 1950, 1950**2, 1950**3, 1950**4, 1950**5], [1, 1960, 1960**2, 1960**3,1960**4, 1960**5], [1, 1970, 1970**2, 1970**3,1970**4, 1970**5], [1, 1980, 1980**2, 1980**3, 1980**4, 1980**5], [1, 1990, 1990**2, 1990**3, 1990**4, 1990**5], [1, 2000, 2000**2, 2000**3, 2000**4, 2000**5]])\n",
    "B = np.array([151325798, 179323175, 203211926, 226545805, 248709873, 281421906])\n",
    "a5 = np.linalg.solve(A,B)\n",
    "print('степен N=5',a5)"
   ]
  },
  {
   "cell_type": "code",
   "execution_count": 60,
   "id": "98386109-c3f3-4d3e-9a63-ba07065fbad3",
   "metadata": {},
   "outputs": [
    {
     "name": "stdout",
     "output_type": "stream",
     "text": [
      "prediction: 365233856.0\n"
     ]
    }
   ],
   "source": [
    "x=np.array([1, 2010,2010**2,2010**3,2010**4,2010**5])\n",
    "result=np.dot(a5,x)\n",
    "print('prediction:',result)"
   ]
  },
  {
   "cell_type": "code",
   "execution_count": 61,
   "id": "699437f8-fd40-4f82-afad-0522c9939d2f",
   "metadata": {},
   "outputs": [
    {
     "name": "stdout",
     "output_type": "stream",
     "text": [
      "error: 0.18296075909605533\n"
     ]
    }
   ],
   "source": [
    "print('error:',np.abs((real_value_2010-result)/real_value_2010))"
   ]
  },
  {
   "cell_type": "markdown",
   "id": "31bc1d8b-6a93-48be-866a-e29e93ef287a",
   "metadata": {},
   "source": [
    "## $$ б)\\ f(x) = \\sum_{n=0}^{N}c_n(x-1910)^n $$"
   ]
  },
  {
   "cell_type": "code",
   "execution_count": 62,
   "id": "e5dad98a-7930-4c0a-9b06-76785a842b51",
   "metadata": {},
   "outputs": [
    {
     "name": "stdout",
     "output_type": "stream",
     "text": [
      "степен N=2 [ 3.66740349e+08 -5.69456695e+06  5.27398250e+04]\n"
     ]
    }
   ],
   "source": [
    "A = np.array([[1, (1980-1910), (1980-1910)**2], [1, (1990-1910), (1990-1910)**2], [1, (2000-1910), (2000-1910)**2]])\n",
    "B = np.array([226545805, 248709873, 281421906])\n",
    "б2 = np.linalg.solve(A,B)\n",
    "print('степен N=2',б2)"
   ]
  },
  {
   "cell_type": "code",
   "execution_count": 65,
   "id": "8138dacb-dcef-4b07-b240-dd4d80a50f5d",
   "metadata": {},
   "outputs": [
    {
     "name": "stdout",
     "output_type": "stream",
     "text": [
      "prediction: 324681904.00000006\n"
     ]
    }
   ],
   "source": [
    "x=np.array([1, (2010-1910),(2010-1910)**2])\n",
    "result=np.dot(б2,x)\n",
    "print('prediction:',result)"
   ]
  },
  {
   "cell_type": "code",
   "execution_count": 66,
   "id": "d0b9de6a-b7c6-4b5b-b82d-c2f2635dbbcd",
   "metadata": {},
   "outputs": [
    {
     "name": "stdout",
     "output_type": "stream",
     "text": [
      "error: 0.051616506276440696\n"
     ]
    }
   ],
   "source": [
    "print('error:',np.abs((real_value_2010-result)/real_value_2010))"
   ]
  },
  {
   "cell_type": "code",
   "execution_count": 67,
   "id": "84f667cb-2200-4711-906f-029ce7e51466",
   "metadata": {},
   "outputs": [
    {
     "name": "stdout",
     "output_type": "stream",
     "text": [
      "степен N=3 [-6.17552835e+08  3.16070200e+07 -4.15971215e+05  1.95296267e+03]\n"
     ]
    }
   ],
   "source": [
    "A = np.array([[1, (1970-1910), (1970-1910)**2, (1970-1910)**3], [1, (1980-1910), (1980-1910)**2, (1980-1910)**3], [1, (1990-1910), (1990-1910)**2, (1990-1910)**3], [1, (2000-1910), (2000-1910)**2, (2000-1910)**3]])\n",
    "B = np.array([203211926, 226545805, 248709873, 281421906])\n",
    "б3 = np.linalg.solve(A,B)\n",
    "print('степен N=3',б3)"
   ]
  },
  {
   "cell_type": "code",
   "execution_count": 68,
   "id": "3367208e-7dde-441e-848f-f94729ca4fde",
   "metadata": {},
   "outputs": [
    {
     "name": "stdout",
     "output_type": "stream",
     "text": [
      "prediction: 336399679.9999995\n"
     ]
    }
   ],
   "source": [
    "x=np.array([1, (2010-1910),(2010-1910)**2,(2010-1910)**3])\n",
    "result=np.dot(б3,x)\n",
    "print('prediction:',result)"
   ]
  },
  {
   "cell_type": "code",
   "execution_count": 69,
   "id": "9b648d18-b3d0-410a-a25c-b81f8ee1dc41",
   "metadata": {},
   "outputs": [
    {
     "name": "stdout",
     "output_type": "stream",
     "text": [
      "error: 0.08956936569557654\n"
     ]
    }
   ],
   "source": [
    "print('error:',np.abs((real_value_2010-result)/real_value_2010))"
   ]
  },
  {
   "cell_type": "code",
   "execution_count": 8,
   "id": "2d6d90c2-baf7-4259-b86f-07832ae58b10",
   "metadata": {},
   "outputs": [
    {
     "name": "stdout",
     "output_type": "stream",
     "text": [
      "степен N=4 [ 9.36369255e+08 -5.31803956e+07  1.30547025e+06 -1.34629311e+04\n",
      "  5.13863125e+01]\n"
     ]
    }
   ],
   "source": [
    "A = np.array([[1, (1960-1910), (1960-1910)**2, (1960-1910)**3,(1960-1910)**4], [1, (1970-1910), (1970-1910)**2, (1970-1910)**3,(1970-1910)**4], [1, (1980-1910), (1980-1910)**2, (1980-1910)**3, (1980-1910)**4], [1, (1990-1910), (1990-1910)**2, (1990-1910)**3, (1990-1910)**4], [1, (2000-1910), (2000-1910)**2, (2000-1910)**3, (2000-1910)**4]])\n",
    "B = np.array([179323175, 203211926, 226545805, 248709873, 281421906])\n",
    "б4 = np.linalg.solve(A,B)\n",
    "print('степен N=4',б4)"
   ]
  },
  {
   "cell_type": "code",
   "execution_count": 4,
   "id": "64f51770-c867-4183-b2ea-25fdd7f5100f",
   "metadata": {},
   "outputs": [
    {
     "name": "stdout",
     "output_type": "stream",
     "text": [
      "prediction: 348732395.00000095\n"
     ]
    }
   ],
   "source": [
    "x=np.array([1, (2010-1910),(2010-1910)**2,(2010-1910)**3,(2010-1910)**4])\n",
    "result=np.dot(б4,x)\n",
    "print('prediction:',result)"
   ]
  },
  {
   "cell_type": "code",
   "execution_count": 7,
   "id": "5b3f5c44-7032-42b3-9270-9826ed216865",
   "metadata": {},
   "outputs": [
    {
     "name": "stdout",
     "output_type": "stream",
     "text": [
      "error: 0.1295139591620623\n"
     ]
    }
   ],
   "source": [
    "print('error:',np.abs((real_value_2010-result)/real_value_2010))"
   ]
  },
  {
   "cell_type": "code",
   "execution_count": 9,
   "id": "9376191d-433e-46a4-9e51-e249ecbe79f6",
   "metadata": {},
   "outputs": [
    {
     "name": "stdout",
     "output_type": "stream",
     "text": [
      "степен N=5 [-1.14280815e+09  1.01850333e+08 -3.26679488e+06  5.32302596e+04\n",
      " -4.29904754e+02  1.37511733e+00]\n"
     ]
    }
   ],
   "source": [
    "A = np.array([[1, (1950-1910), (1950-1910)**2, (1950-1910)**3, (1950-1910)**4, (1950-1910)**5], [1, (1960-1910), (1960-1910)**2, (1960-1910)**3, (1960-1910)**4, (1960-1910)**5], [1, (1970-1910), (1970-1910)**2, (1970-1910)**3, (1970-1910)**4, (1970-1910)**5], [1, (1980-1910), (1980-1910)**2, (1980-1910)**3, (1980-1910)**4, (1980-1910)**5], [1, (1990-1910), (1990-1910)**2, (1990-1910)**3, (1990-1910)**4, (1990-1910)**5], [1, (2000-1910), (2000-1910)**2, (2000-1910)**3, (2000-1910)**4, (2000-1910)**5]])\n",
    "B = np.array([151325798, 179323175, 203211926, 226545805, 248709873, 281421906])\n",
    "б5 = np.linalg.solve(A,B)\n",
    "print('степен N=5',б5)"
   ]
  },
  {
   "cell_type": "code",
   "execution_count": 10,
   "id": "12064a37-7546-4fd1-b4dd-5cfeb747aacd",
   "metadata": {},
   "outputs": [
    {
     "name": "stdout",
     "output_type": "stream",
     "text": [
      "prediction: 365233803.00001526\n"
     ]
    }
   ],
   "source": [
    "x=np.array([1, (2010-1910),(2010-1910)**2,(2010-1910)**3,(2010-1910)**4,(2010-1910)**5])\n",
    "result=np.dot(б5,x)\n",
    "print('prediction:',result)"
   ]
  },
  {
   "cell_type": "code",
   "execution_count": 11,
   "id": "2f5da25d-2a46-4899-93f4-dd894b911a2a",
   "metadata": {},
   "outputs": [
    {
     "name": "stdout",
     "output_type": "stream",
     "text": [
      "error: 0.1829605874337049\n"
     ]
    }
   ],
   "source": [
    "print('error:',np.abs((real_value_2010-result)/real_value_2010))"
   ]
  },
  {
   "cell_type": "markdown",
   "id": "6c65e89e-ec91-4f64-b1b3-e0e622d07e62",
   "metadata": {},
   "source": [
    "## $$ в)\\ f(x) = \\sum_{n=0}^{N}c_n(x-1955)^n $$"
   ]
  },
  {
   "cell_type": "code",
   "execution_count": 12,
   "id": "873b6f85-5753-4cc4-b80b-980ef0f0cb4e",
   "metadata": {},
   "outputs": [
    {
     "name": "stdout",
     "output_type": "stream",
     "text": [
      "степен N=2 [ 2.17282982e+08 -9.47982700e+05  5.27398250e+04]\n"
     ]
    }
   ],
   "source": [
    "A = np.array([[1, (1980-1955), (1980-1955)**2], [1, (1990-1955), (1990-1955)**2], [1, (2000-1955), (2000-1955)**2]])\n",
    "B = np.array([226545805, 248709873, 281421906])\n",
    "в2 = np.linalg.solve(A,B)\n",
    "print('степен N=2',в2)"
   ]
  },
  {
   "cell_type": "code",
   "execution_count": 13,
   "id": "28063ca5-9fda-4df6-94f9-722ade362f03",
   "metadata": {},
   "outputs": [
    {
     "name": "stdout",
     "output_type": "stream",
     "text": [
      "prediction: 324681904.0\n"
     ]
    }
   ],
   "source": [
    "x=np.array([1, (2010-1955),(2010-1955)**2])\n",
    "result=np.dot(в2,x)\n",
    "print('prediction:',result)"
   ]
  },
  {
   "cell_type": "code",
   "execution_count": 14,
   "id": "ab9d9e4a-8142-4302-9064-5de51617026f",
   "metadata": {},
   "outputs": [
    {
     "name": "stdout",
     "output_type": "stream",
     "text": [
      "error: 0.0516165062764405\n"
     ]
    }
   ],
   "source": [
    "print('error:',np.abs((real_value_2010-result)/real_value_2010))"
   ]
  },
  {
   "cell_type": "code",
   "execution_count": 16,
   "id": "afa24f0a-8651-4c11-96bb-a2c844a821f9",
   "metadata": {},
   "outputs": [
    {
     "name": "stdout",
     "output_type": "stream",
     "text": [
      "степен N=3 [ 1.40385077e+08  6.03385883e+06 -1.52321255e+05  1.95296267e+03]\n"
     ]
    }
   ],
   "source": [
    "A = np.array([[1, (1970-1955), (1970-1955)**2, (1970-1955)**3], [1, (1980-1955), (1980-1955)**2, (1980-1955)**3], [1, (1990-1955), (1990-1955)**2, (1990-1955)**3], [1, (2000-1955), (2000-1955)**2, (2000-1955)**3]])\n",
    "B = np.array([203211926, 226545805, 248709873, 281421906])\n",
    "в3 = np.linalg.solve(A,B)\n",
    "print('степен N=3',в3)"
   ]
  },
  {
   "cell_type": "code",
   "execution_count": 17,
   "id": "762390c3-58af-4a57-9e9a-5698121bcc3d",
   "metadata": {},
   "outputs": [
    {
     "name": "stdout",
     "output_type": "stream",
     "text": [
      "prediction: 336399680.0\n"
     ]
    }
   ],
   "source": [
    "x=np.array([1, (2010-1955),(2010-1955)**2,(2010-1955)**3])\n",
    "result=np.dot(в3,x)\n",
    "print('prediction:',result)"
   ]
  },
  {
   "cell_type": "code",
   "execution_count": 18,
   "id": "95d1b4d0-cefa-43f1-8ebd-05c58092fbcc",
   "metadata": {},
   "outputs": [
    {
     "name": "stdout",
     "output_type": "stream",
     "text": [
      "error: 0.08956936569557808\n"
     ]
    }
   ],
   "source": [
    "print('error:',np.abs((real_value_2010-result)/real_value_2010))"
   ]
  },
  {
   "cell_type": "code",
   "execution_count": 20,
   "id": "41786bfb-9145-4028-a0b1-e426592ced05",
   "metadata": {},
   "outputs": [
    {
     "name": "stdout",
     "output_type": "stream",
     "text": [
      "степен N=4 [ 1.70735118e+08  1.25493177e+06  1.12318254e+05 -4.21339483e+03\n",
      "  5.13863125e+01]\n"
     ]
    }
   ],
   "source": [
    "A = np.array([[1, (1960-1955), (1960-1955)**2, (1960-1955)**3,(1960-1955)**4], [1, (1970-1955), (1970-1955)**2, (1970-1955)**3,(1970-1955)**4], [1, (1980-1955), (1980-1955)**2, (1980-1955)**3, (1980-1955)**4], [1, (1990-1955), (1990-1955)**2, (1990-1955)**3, (1990-1955)**4], [1, (2000-1955), (2000-1955)**2, (2000-1955)**3, (2000-1955)**4]])\n",
    "B = np.array([179323175, 203211926, 226545805, 248709873, 281421906])\n",
    "в4 = np.linalg.solve(A,B)\n",
    "print('степен N=4',в4)"
   ]
  },
  {
   "cell_type": "code",
   "execution_count": 21,
   "id": "eea11526-4152-42b3-99a3-26abad21e643",
   "metadata": {},
   "outputs": [
    {
     "name": "stdout",
     "output_type": "stream",
     "text": [
      "prediction: 348732395.0\n"
     ]
    }
   ],
   "source": [
    "x=np.array([1, (2010-1955),(2010-1955)**2,(2010-1955)**3,(2010-1955)**4])\n",
    "result=np.dot(в4,x)\n",
    "print('prediction:',result)"
   ]
  },
  {
   "cell_type": "code",
   "execution_count": 22,
   "id": "08f327bf-b09f-40c7-b9bd-29950eff86d6",
   "metadata": {},
   "outputs": [
    {
     "name": "stdout",
     "output_type": "stream",
     "text": [
      "error: 0.1295139591620592\n"
     ]
    }
   ],
   "source": [
    "print('error:',np.abs((real_value_2010-result)/real_value_2010))"
   ]
  },
  {
   "cell_type": "code",
   "execution_count": 24,
   "id": "012fa3e3-0f02-4018-b63f-503fd440473a",
   "metadata": {},
   "outputs": [
    {
     "name": "stdout",
     "output_type": "stream",
     "text": [
      "степен N=5 [ 1.65989053e+08  2.79920126e+06 -2.74853427e+04  3.92830759e+01\n",
      "  3.61072212e+01 -7.13023671e-01]\n"
     ]
    }
   ],
   "source": [
    "A = np.array([[1, (1950-1955), (1950-1955)**2, (1950-1955)**3, (1950-1955)**4, (1950-1955)**5], [1, (1960-1955), (1960-1955)**2, (1960-1955)**3, (1960-1955)**4, (1960-1955)**5], [1, (1970-1955), (1970-1955)**2, (1970-1955)**3, (1970-1955)**4, (1970-1955)**5], [1, (1980-1955), (1980-1955)**2, (1980-1955)**3, (1980-1955)**4, (1980-1955)**5], [1, (1990-1955), (1990-1955)**2, (1990-1955)**3, (1990-1955)**4, (1990-1955)**5], [1, (2000-1955), (2000-1955)**2, (2000-1910)**3, (2000-1955)**4, (2000-1955)**5]])\n",
    "B = np.array([151325798, 179323175, 203211926, 226545805, 248709873, 281421906])\n",
    "в5 = np.linalg.solve(A,B)\n",
    "print('степен N=5',в5)"
   ]
  },
  {
   "cell_type": "code",
   "execution_count": 25,
   "id": "4f34de43-2b4a-4075-ae66-57a473312acc",
   "metadata": {},
   "outputs": [
    {
     "name": "stdout",
     "output_type": "stream",
     "text": [
      "prediction: 214887650.6948893\n"
     ]
    }
   ],
   "source": [
    "x=np.array([1, (2010-1955),(2010-1955)**2,(2010-1955)**3,(2010-1955)**4,(2010-1955)**5])\n",
    "result=np.dot(в5,x)\n",
    "print('prediction:',result)"
   ]
  },
  {
   "cell_type": "code",
   "execution_count": 26,
   "id": "29dadc07-d0fe-472d-9956-19d73b217def",
   "metadata": {},
   "outputs": [
    {
     "name": "stdout",
     "output_type": "stream",
     "text": [
      "error: 0.30399755058196404\n"
     ]
    }
   ],
   "source": [
    "print('error:',np.abs((real_value_2010-result)/real_value_2010))"
   ]
  },
  {
   "cell_type": "markdown",
   "id": "1114c6a7-f2c7-4fd6-88ca-d0ffb8d4cad5",
   "metadata": {},
   "source": [
    "## $$ г)\\ f(x) = \\sum_{n=0}^{N}c_n(\\frac{x-1955}{45})^n $$"
   ]
  },
  {
   "cell_type": "code",
   "execution_count": 27,
   "id": "62e9a84c-d1ac-4c63-afb7-5604c3ccd55b",
   "metadata": {},
   "outputs": [
    {
     "name": "stdout",
     "output_type": "stream",
     "text": [
      "степен N=2 [ 2.17282982e+08 -4.26592215e+07  1.06798146e+08]\n"
     ]
    }
   ],
   "source": [
    "A = np.array([[1, ((1980-1955)/45), ((1980-1955)/45)**2], [1, ((1990-1955)/45), ((1990-1955)/45)**2], [1, ((2000-1955)/45), ((2000-1955)/45)**2]])\n",
    "B = np.array([226545805, 248709873, 281421906])\n",
    "г2 = np.linalg.solve(A,B)\n",
    "print('степен N=2',г2)"
   ]
  },
  {
   "cell_type": "code",
   "execution_count": 28,
   "id": "900d27f5-8ed3-4bf0-8ffc-d28d3beac936",
   "metadata": {},
   "outputs": [
    {
     "name": "stdout",
     "output_type": "stream",
     "text": [
      "prediction: 324681904.0\n"
     ]
    }
   ],
   "source": [
    "x=np.array([1, ((2010-1955)/45),((2010-1955)/45)**2])\n",
    "result=np.dot(г2,x)\n",
    "print('prediction:',result)"
   ]
  },
  {
   "cell_type": "code",
   "execution_count": 29,
   "id": "215a677e-b0d1-4424-98fd-deb33d04febf",
   "metadata": {},
   "outputs": [
    {
     "name": "stdout",
     "output_type": "stream",
     "text": [
      "error: 0.0516165062764405\n"
     ]
    }
   ],
   "source": [
    "print('error:',np.abs((real_value_2010-result)/real_value_2010))"
   ]
  },
  {
   "cell_type": "code",
   "execution_count": 30,
   "id": "8ca320df-8111-4966-9922-44476cd4823a",
   "metadata": {},
   "outputs": [
    {
     "name": "stdout",
     "output_type": "stream",
     "text": [
      "степен N=3 [ 1.40385077e+08  2.71523647e+08 -3.08450541e+08  1.77963723e+08]\n"
     ]
    }
   ],
   "source": [
    "A = np.array([[1, ((1970-1955)/45), ((1970-1955)/45)**2, ((1970-1955)/45)**3], [1, ((1980-1955)/45), ((1980-1955)/45)**2, ((1980-1955)/45)**3], [1, ((1990-1955)/45), ((1990-1955)/45)**2, ((1990-1955)/45)**3], [1, ((2000-1955)/45), ((2000-1955)/45)**2, ((2000-1955)/45)**3]])\n",
    "B = np.array([203211926, 226545805, 248709873, 281421906])\n",
    "г3 = np.linalg.solve(A,B)\n",
    "print('степен N=3',г3)"
   ]
  },
  {
   "cell_type": "code",
   "execution_count": 31,
   "id": "93ae9864-05ae-4422-98e7-ee715fe0a1f3",
   "metadata": {},
   "outputs": [
    {
     "name": "stdout",
     "output_type": "stream",
     "text": [
      "prediction: 336399679.9999999\n"
     ]
    }
   ],
   "source": [
    "x=np.array([1, ((2010-1955)/45),((2010-1955)/45)**2,((2010-1955)/45)**3])\n",
    "result=np.dot(г3,x)\n",
    "print('prediction:',result)"
   ]
  },
  {
   "cell_type": "code",
   "execution_count": 32,
   "id": "8aefbd99-5e68-4d4d-bea4-b5ceafa7c2fb",
   "metadata": {},
   "outputs": [
    {
     "name": "stdout",
     "output_type": "stream",
     "text": [
      "error: 0.0895693656955777\n"
     ]
    }
   ],
   "source": [
    "print('error:',np.abs((real_value_2010-result)/real_value_2010))"
   ]
  },
  {
   "cell_type": "code",
   "execution_count": 33,
   "id": "ffd99c6d-4345-49a6-9fdf-9e1275999562",
   "metadata": {},
   "outputs": [
    {
     "name": "stdout",
     "output_type": "stream",
     "text": [
      "степен N=4 [ 1.70735118e+08  5.64719297e+07  2.27444465e+08 -3.83945604e+08\n",
      "  2.10715998e+08]\n"
     ]
    }
   ],
   "source": [
    "A = np.array([[1, ((1960-1955)/45), ((1960-1955)/45)**2, ((1960-1955)/45)**3,((1960-1955)/45)**4], [1, ((1970-1955)/45), ((1970-1955)/45)**2, ((1970-1955)/45)**3,((1970-1955)/45)**4], [1, ((1980-1955)/45), ((1980-1955)/45)**2, ((1980-1955)/45)**3, ((1980-1955)/45)**4], [1, ((1990-1955)/45), ((1990-1955)/45)**2, ((1990-1955)/45)**3, ((1990-1955)/45)**4], [1, ((2000-1955)/45), ((2000-1955)/45)**2, ((2000-1955)/45)**3, ((2000-1955)/45)**4]])\n",
    "B = np.array([179323175, 203211926, 226545805, 248709873, 281421906])\n",
    "г4 = np.linalg.solve(A,B)\n",
    "print('степен N=4',г4)"
   ]
  },
  {
   "cell_type": "code",
   "execution_count": 34,
   "id": "8d98aab4-c6c6-4eab-9655-71900c6f6592",
   "metadata": {},
   "outputs": [
    {
     "name": "stdout",
     "output_type": "stream",
     "text": [
      "prediction: 348732395.00000006\n"
     ]
    }
   ],
   "source": [
    "x=np.array([1, ((2010-1955)/45),((2010-1955)/45)**2,((2010-1955)/45)**3,((2010-1955)/45)**4])\n",
    "result=np.dot(г4,x)\n",
    "print('prediction:',result)"
   ]
  },
  {
   "cell_type": "code",
   "execution_count": 35,
   "id": "95de6568-86e8-42ca-9843-d04d48303af7",
   "metadata": {},
   "outputs": [
    {
     "name": "stdout",
     "output_type": "stream",
     "text": [
      "error: 0.1295139591620594\n"
     ]
    }
   ],
   "source": [
    "print('error:',np.abs((real_value_2010-result)/real_value_2010))"
   ]
  },
  {
   "cell_type": "code",
   "execution_count": 36,
   "id": "3863807b-f007-4fb7-be24-d09febd7b73c",
   "metadata": {},
   "outputs": [
    {
     "name": "stdout",
     "output_type": "stream",
     "text": [
      "степен N=5 [ 1.66674224e+08  1.21794300e+08 -1.03228281e+08  3.36572906e+08\n",
      " -4.94139067e+08  2.53747823e+08]\n"
     ]
    }
   ],
   "source": [
    "A = np.array([[1, ((1950-1955)/45), ((1950-1955)/45)**2, ((1950-1955)/45)**3, ((1950-1955)/45)**4, ((1950-1955)/45)**5], [1, ((1960-1955)/45), ((1960-1955)/45)**2, ((1960-1955)/45)**3, ((1960-1955)/45)**4, ((1960-1955)/45)**5], [1, ((1970-1955)/45), ((1970-1955)/45)**2, ((1970-1955)/45)**3, ((1970-1955)/45)**4, ((1970-1955)/45)**5], [1, ((1980-1955)/45), ((1980-1955)/45)**2, ((1980-1955)/45)**3, ((1980-1955)/45)**4, ((1980-1955)/45)**5], [1, ((1990-1955)/45), ((1990-1955)/45)**2, ((1990-1955)/45)**3, ((1990-1955)/45)**4, ((1990-1955)/45)**5], [1, ((2000-1955)/45), ((2000-1955)/45)**2, ((2000-1955)/45)**3, ((2000-1955)/45)**4, ((2000-1955)/45)**5]])\n",
    "B = np.array([151325798, 179323175, 203211926, 226545805, 248709873, 281421906])\n",
    "г5 = np.linalg.solve(A,B)\n",
    "print('степен N=5',г5)"
   ]
  },
  {
   "cell_type": "code",
   "execution_count": 37,
   "id": "dba017ea-1d9c-4d03-b362-95967ab78cd7",
   "metadata": {},
   "outputs": [
    {
     "name": "stdout",
     "output_type": "stream",
     "text": [
      "prediction: 365233802.9999994\n"
     ]
    }
   ],
   "source": [
    "x=np.array([1, ((2010-1955)/45),((2010-1955)/45)**2,((2010-1955)/45)**3,((2010-1955)/45)**4,((2010-1955)/45)**5])\n",
    "result=np.dot(г5,x)\n",
    "print('prediction:',result)"
   ]
  },
  {
   "cell_type": "code",
   "execution_count": 38,
   "id": "66e82cbe-ce34-479d-8a8d-293ac127f7cc",
   "metadata": {},
   "outputs": [
    {
     "name": "stdout",
     "output_type": "stream",
     "text": [
      "error: 0.18296058743365354\n"
     ]
    }
   ],
   "source": [
    "print('error:',np.abs((real_value_2010-result)/real_value_2010))"
   ]
  },
  {
   "cell_type": "markdown",
   "id": "34fc35d4-264e-4e62-9a39-4c4c2ef48fb9",
   "metadata": {},
   "source": [
    "# Задача III.5.13"
   ]
  },
  {
   "cell_type": "markdown",
   "id": "e933f63e-a50c-4da6-bfda-d5a1859b4229",
   "metadata": {},
   "source": [
    "## первый пункт"
   ]
  },
  {
   "cell_type": "code",
   "execution_count": 43,
   "id": "5029ba6c-fd0c-49ce-ae49-335a29773ec3",
   "metadata": {},
   "outputs": [],
   "source": [
    "import matplotlib.pyplot as plt\n",
    "import matplotlib.ticker as ticker\n",
    "import numpy as np\n",
    "import pandas as pd\n",
    "import scipy\n",
    "from scipy.optimize import curve_fit\n",
    "plt.rc('xtick',labelsize=20); plt.rc('ytick',labelsize=20)\n",
    "plt.rcParams['figure.figsize'] = (14,8)"
   ]
  },
  {
   "cell_type": "code",
   "execution_count": 52,
   "id": "bb97e35b-f94c-4cb4-9d1c-192deefde12f",
   "metadata": {},
   "outputs": [
    {
     "data": {
      "image/png": "[encoded data removed]",
      "text/plain": [
       "<Figure size 1008x576 with 1 Axes>"
      ]
     },
     "metadata": {
      "needs_background": "light"
     },
     "output_type": "display_data"
    }
   ],
   "source": [
    "ax = plt.axes()\n",
    "ax.xaxis.set_minor_locator(ticker.MultipleLocator(1));\n",
    "ax.yaxis.set_minor_locator(ticker.MultipleLocator(50));\n",
    "\n",
    "x=np.array([20,21,22,23,24,25,26,27,28,29,30,31,32,33,34,35,36,37,38,39,40,41,42,43,44,45])\n",
    "y=np.array([431,409,429,422,530,505,459,499,526,563,587,595,647,669,746,760,778,828,846,836,916,956,1014,1076,1134,1024])\n",
    "\n",
    "def model_f(x,a,b):\n",
    "    return a*x + b\n",
    "\n",
    "popt, pcov = curve_fit(model_f, x, y, p0=[1.4,26.8])\n",
    "\n",
    "a_opt, b_opt = popt\n",
    "x_model = np.linspace(min(x), max(x))\n",
    "y_model = model_f(x_model, a_opt, b_opt)\n",
    "\n",
    "plt.title('Зависимости смерности от возрастов', size=25)\n",
    "plt.xlabel('Возраст',size=20)\n",
    "plt.ylabel('Смерность',size=20)\n",
    "\n",
    "txt = r\" y = ax + b\"\n",
    "txt1 = r\"a = 28 $\\pm$ 0.04\"\n",
    "txt2 = r\"b = -234 $\\pm$ 0.18\"\n",
    "ax.text(19.8,1000,txt, size = 20)\n",
    "ax.text(20,950,txt1, size = 20)\n",
    "ax.text(20,900,txt2, size = 20)\n",
    "\n",
    "plt.plot(x_model,y_model, color='blue')\n",
    "plt.scatter(x,y,color='black')\n",
    "plt.grid()"
   ]
  },
  {
   "cell_type": "code",
   "execution_count": 26,
   "id": "15235b18-4dc6-415e-9df8-d8437894b268",
   "metadata": {},
   "outputs": [
    {
     "data": {
      "text/plain": [
       "array([  28.72581194, -234.16581119])"
      ]
     },
     "execution_count": 26,
     "metadata": {},
     "output_type": "execute_result"
    }
   ],
   "source": [
    "popt"
   ]
  },
  {
   "cell_type": "code",
   "execution_count": 27,
   "id": "823df760-3237-40e2-8f8c-e4adc8fd9f7f",
   "metadata": {},
   "outputs": [
    {
     "data": {
      "text/plain": [
       "array([[ 1.60831623e+00, -5.22702777e+01],\n",
       "       [-5.22702777e+01,  1.78925182e+03]])"
      ]
     },
     "execution_count": 27,
     "metadata": {},
     "output_type": "execute_result"
    }
   ],
   "source": [
    "pcov"
   ]
  },
  {
   "cell_type": "code",
   "execution_count": 33,
   "id": "66100b07-b79c-4f96-a43a-d73b695d3577",
   "metadata": {},
   "outputs": [
    {
     "name": "stdout",
     "output_type": "stream",
     "text": [
      "[ 1.26819408 42.29954865]\n"
     ]
    }
   ],
   "source": [
    "error_line=np.sqrt(np.diag(pcov))\n",
    "print(error_line)"
   ]
  },
  {
   "cell_type": "code",
   "execution_count": 45,
   "id": "97709504-1dcb-4f27-8b52-86df79f04432",
   "metadata": {},
   "outputs": [
    {
     "name": "stdout",
     "output_type": "stream",
     "text": [
      "0.04414824145566456\n"
     ]
    }
   ],
   "source": [
    "erro_a=error_line[0]/popt[0]\n",
    "print(erro_a)"
   ]
  },
  {
   "cell_type": "code",
   "execution_count": 49,
   "id": "4b6f8b0b-febb-4e27-82b9-5a9507322e87",
   "metadata": {},
   "outputs": [
    {
     "name": "stdout",
     "output_type": "stream",
     "text": [
      "0.18063930185823354\n"
     ]
    }
   ],
   "source": [
    "erro_b=error_line[1]/popt[1]\n",
    "print(np.abs(erro_b))"
   ]
  },
  {
   "cell_type": "code",
   "execution_count": 51,
   "id": "cd5ff4d5-42cc-477e-8d1f-dc6bab530540",
   "metadata": {},
   "outputs": [
    {
     "name": "stdout",
     "output_type": "stream",
     "text": [
      "0.18595597489582763\n"
     ]
    }
   ],
   "source": [
    "abs_error_line=np.sqrt(erro_a**2+erro_b**2)\n",
    "print(abs_error_line)"
   ]
  },
  {
   "cell_type": "markdown",
   "id": "75566086-73f1-41a7-baa8-bf77fc605873",
   "metadata": {},
   "source": [
    "## второй пункт"
   ]
  },
  {
   "cell_type": "code",
   "execution_count": 63,
   "id": "6dbc4fcf-7f41-498d-8747-b346392d0ad5",
   "metadata": {},
   "outputs": [
    {
     "data": {
      "image/png": "[encoded data removed]",
      "text/plain": [
       "<Figure size 1008x576 with 1 Axes>"
      ]
     },
     "metadata": {
      "needs_background": "light"
     },
     "output_type": "display_data"
    }
   ],
   "source": [
    "ax = plt.axes()\n",
    "ax.xaxis.set_minor_locator(ticker.MultipleLocator(1));\n",
    "ax.yaxis.set_minor_locator(ticker.MultipleLocator(50));\n",
    "\n",
    "x1=x[0:9]\n",
    "y1=y[0:9]\n",
    "\n",
    "x2=x[8:20]\n",
    "y2=y[8:20]\n",
    "\n",
    "x3=x[19:]\n",
    "y3=y[19:]\n",
    "\n",
    "popt1, pcov1 = curve_fit(model_f, x1, y1)\n",
    "popt2, pcov2 = curve_fit(model_f, x2, y2)\n",
    "popt3, pcov3 = curve_fit(model_f, x3, y3)\n",
    "\n",
    "a_opt1, b_opt1 = popt1\n",
    "x_model1 = np.linspace(min(x1), max(x1))\n",
    "y_model1 = model_f(x_model1, a_opt1, b_opt1)\n",
    "\n",
    "a_opt2, b_opt2 = popt2\n",
    "x_model2 = np.linspace(min(x2), max(x2))\n",
    "y_model2 = model_f(x_model2, a_opt2, b_opt2)\n",
    "\n",
    "a_opt3, b_opt3 = popt3\n",
    "x_model3 = np.linspace(min(x3), max(x3))\n",
    "y_model3 = model_f(x_model3, a_opt3, b_opt3)\n",
    "\n",
    "\n",
    "plt.title('Зависимости смерности от возрастов', size=25)\n",
    "plt.xlabel('Возраст',size=20)\n",
    "plt.ylabel('Смерность',size=20)\n",
    "\n",
    "plt.plot(x_model1,y_model1, color='red')\n",
    "plt.plot(x_model2,y_model2, color='green')\n",
    "plt.plot(x_model3,y_model3, color='blue')\n",
    "\n",
    "\n",
    "plt.scatter(x,y,color='black')\n",
    "plt.grid()"
   ]
  },
  {
   "cell_type": "markdown",
   "id": "3c793295-674c-403f-afa7-259a2fb6a397",
   "metadata": {},
   "source": [
    "### интервал [20,28]"
   ]
  },
  {
   "cell_type": "code",
   "execution_count": 92,
   "id": "7504daab-b7aa-423b-b44f-4cc3448c8b06",
   "metadata": {},
   "outputs": [
    {
     "name": "stdout",
     "output_type": "stream",
     "text": [
      "[  4.26076771 102.84849558]\n"
     ]
    }
   ],
   "source": [
    "error_line1=np.sqrt(np.diag(pcov1))\n",
    "print(error_line1)"
   ]
  },
  {
   "cell_type": "code",
   "execution_count": 93,
   "id": "ea026a88-9887-4a08-84a0-9b9d2d5f618a",
   "metadata": {},
   "outputs": [
    {
     "name": "stdout",
     "output_type": "stream",
     "text": [
      "0.3223783903871723\n"
     ]
    }
   ],
   "source": [
    "erro_a=error_line1[0]/popt1[0]\n",
    "print(erro_a)"
   ]
  },
  {
   "cell_type": "code",
   "execution_count": 94,
   "id": "8959c60c-ad2a-416c-8612-cf0a3211ea64",
   "metadata": {},
   "outputs": [
    {
     "name": "stdout",
     "output_type": "stream",
     "text": [
      "0.6830257189418721\n"
     ]
    }
   ],
   "source": [
    "erro_b=error_line1[1]/popt1[1]\n",
    "print(np.abs(erro_b))"
   ]
  },
  {
   "cell_type": "code",
   "execution_count": 95,
   "id": "c742d2e3-563c-45f3-981a-f7817506b112",
   "metadata": {},
   "outputs": [
    {
     "name": "stdout",
     "output_type": "stream",
     "text": [
      "0.7552827015923809\n"
     ]
    }
   ],
   "source": [
    "abs_error_line1=np.sqrt(erro_a**2+erro_b**2)\n",
    "print(abs_error_line1)"
   ]
  },
  {
   "cell_type": "markdown",
   "id": "fe3e750d-0bd4-46a3-b78d-c2cff67a4f2c",
   "metadata": {},
   "source": [
    "### интервал [28,39]"
   ]
  },
  {
   "cell_type": "code",
   "execution_count": 96,
   "id": "c0c40e29-2c5b-44a4-a547-31d89e1b3232",
   "metadata": {},
   "outputs": [
    {
     "name": "stdout",
     "output_type": "stream",
     "text": [
      "[ 1.61983892 54.55194863]\n"
     ]
    }
   ],
   "source": [
    "error_line2=np.sqrt(np.diag(pcov2))\n",
    "print(error_line2)"
   ]
  },
  {
   "cell_type": "code",
   "execution_count": 97,
   "id": "fcbb2f69-5919-4eb8-a8e7-ec948ca8a995",
   "metadata": {},
   "outputs": [
    {
     "name": "stdout",
     "output_type": "stream",
     "text": [
      "0.05161826525045493\n"
     ]
    }
   ],
   "source": [
    "erro_a=error_line2[0]/popt2[0]\n",
    "print(erro_a)"
   ]
  },
  {
   "cell_type": "code",
   "execution_count": 98,
   "id": "7af5732d-4edb-4fa8-ae7b-bdce3a78e0da",
   "metadata": {},
   "outputs": [
    {
     "name": "stdout",
     "output_type": "stream",
     "text": [
      "0.1546034363000021\n"
     ]
    }
   ],
   "source": [
    "erro_b=error_line2[1]/popt2[1]\n",
    "print(np.abs(erro_b))"
   ]
  },
  {
   "cell_type": "code",
   "execution_count": 99,
   "id": "df3c58ff-0136-4284-a0ce-55f3aa9e42fa",
   "metadata": {},
   "outputs": [
    {
     "name": "stdout",
     "output_type": "stream",
     "text": [
      "0.16299284592654711\n"
     ]
    }
   ],
   "source": [
    "abs_error_line2=np.sqrt(erro_a**2+erro_b**2)\n",
    "print(abs_error_line2)"
   ]
  },
  {
   "cell_type": "markdown",
   "id": "3a46aa68-97ae-4486-8a78-174adf6e74e2",
   "metadata": {},
   "source": [
    "### интервал [39,45]"
   ]
  },
  {
   "cell_type": "code",
   "execution_count": 100,
   "id": "d63f4816-aaff-47c1-b941-f8d238cd1d74",
   "metadata": {},
   "outputs": [
    {
     "name": "stdout",
     "output_type": "stream",
     "text": [
      "[ 10.45924968 439.78626525]\n"
     ]
    }
   ],
   "source": [
    "error_line3=np.sqrt(np.diag(pcov3))\n",
    "print(error_line3)"
   ]
  },
  {
   "cell_type": "code",
   "execution_count": 101,
   "id": "ac1c02ce-c29c-412b-bf94-28b84e84b694",
   "metadata": {},
   "outputs": [
    {
     "name": "stdout",
     "output_type": "stream",
     "text": [
      "0.26148124188703\n"
     ]
    }
   ],
   "source": [
    "erro_a=error_line3[0]/popt3[0]\n",
    "print(erro_a)"
   ]
  },
  {
   "cell_type": "code",
   "execution_count": 102,
   "id": "4f286fce-c1b4-49cf-8078-cedd4d08fc91",
   "metadata": {},
   "outputs": [
    {
     "name": "stdout",
     "output_type": "stream",
     "text": [
      "0.6408209526934168\n"
     ]
    }
   ],
   "source": [
    "erro_b=error_line3[1]/popt3[1]\n",
    "print(np.abs(erro_b))"
   ]
  },
  {
   "cell_type": "code",
   "execution_count": 103,
   "id": "19349c51-ad60-4c63-9533-6f3d66ecfa40",
   "metadata": {},
   "outputs": [
    {
     "name": "stdout",
     "output_type": "stream",
     "text": [
      "0.6921155490737668\n"
     ]
    }
   ],
   "source": [
    "abs_error_line3=np.sqrt(erro_a**2+erro_b**2)\n",
    "print(abs_error_line3)"
   ]
  },
  {
   "cell_type": "markdown",
   "id": "1288475c-9cf2-432a-8b66-1dd004d0533d",
   "metadata": {
    "tags": []
   },
   "source": [
    "## третий пункт"
   ]
  },
  {
   "cell_type": "markdown",
   "id": "a1fe441c-5d96-468c-9e2e-663e693efd62",
   "metadata": {},
   "source": [
    "### в точке 28"
   ]
  },
  {
   "cell_type": "code",
   "execution_count": 110,
   "id": "09aa33c7-8b51-4f6e-871e-3ffd339b54bb",
   "metadata": {},
   "outputs": [
    {
     "data": {
      "image/png": "[encoded data removed]",
      "text/plain": [
       "<Figure size 1008x576 with 1 Axes>"
      ]
     },
     "metadata": {
      "needs_background": "light"
     },
     "output_type": "display_data"
    }
   ],
   "source": [
    "ax = plt.axes()\n",
    "ax.xaxis.set_minor_locator(ticker.MultipleLocator(1));\n",
    "ax.yaxis.set_minor_locator(ticker.MultipleLocator(50));\n",
    "\n",
    "plt.title('Зависимости смерности от возрастов', size=25)\n",
    "plt.xlabel('Возраст',size=20)\n",
    "plt.ylabel('Смерность',size=20)\n",
    "\n",
    "plt.plot(x_model1,y_model1, color='red')\n",
    "plt.plot(x_model2,y_model2, color='green')\n",
    "plt.xlim([27.9,28.1])\n",
    "\n",
    "plt.scatter(x,y,color='black')\n",
    "plt.grid()"
   ]
  },
  {
   "cell_type": "markdown",
   "id": "2503dd01-0dfe-4aca-a251-ae95987a7eaa",
   "metadata": {},
   "source": [
    "### в точке 39"
   ]
  },
  {
   "cell_type": "code",
   "execution_count": 111,
   "id": "8d57eb7e-3d73-4060-a985-49b465227444",
   "metadata": {},
   "outputs": [
    {
     "data": {
      "image/png": "[encoded data removed]",
      "text/plain": [
       "<Figure size 1008x576 with 1 Axes>"
      ]
     },
     "metadata": {
      "needs_background": "light"
     },
     "output_type": "display_data"
    }
   ],
   "source": [
    "ax = plt.axes()\n",
    "ax.xaxis.set_minor_locator(ticker.MultipleLocator(1));\n",
    "ax.yaxis.set_minor_locator(ticker.MultipleLocator(50));\n",
    "\n",
    "plt.title('Зависимости смерности от возрастов', size=25)\n",
    "plt.xlabel('Возраст',size=20)\n",
    "plt.ylabel('Смерность',size=20)\n",
    "\n",
    "plt.plot(x_model2,y_model2, color='red')\n",
    "plt.plot(x_model3,y_model3, color='green')\n",
    "plt.xlim([38.99,39.1])\n",
    "\n",
    "plt.scatter(x,y,color='black')\n",
    "plt.grid()"
   ]
  },
  {
   "cell_type": "markdown",
   "id": "cb819d3a-ade6-4997-b1f5-b1c5aee2b56b",
   "metadata": {},
   "source": [
    "мне кажется что третия апрокцимация дает наилучшее приближение"
   ]
  }
 ],
 "metadata": {
  "kernelspec": {
   "display_name": "Python 3 (ipykernel)",
   "language": "python",
   "name": "python3"
  },
  "language_info": {
   "codemirror_mode": {
    "name": "ipython",
    "version": 3
   },
   "file_extension": ".py",
   "mimetype": "text/x-python",
   "name": "python",
   "nbconvert_exporter": "python",
   "pygments_lexer": "ipython3",
   "version": "3.9.12"
  }
 },
 "nbformat": 4,
 "nbformat_minor": 5
}
