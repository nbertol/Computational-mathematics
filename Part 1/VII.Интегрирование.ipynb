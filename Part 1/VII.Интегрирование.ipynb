{
 "cells": [
  {
   "cell_type": "markdown",
   "metadata": {},
   "source": [
    "# VII. ЧИСЛЕННОЕ ИНТЕГРИРОВАНИЕ\n",
    "# 9.5б\n",
    "<font size=\"5\">\n",
    "    Для функции, заданной таблично, вычислить значение определённого интеграла методом трапеций, сделать уточнение результата эктраполяцией Ричардсона. Сравнить уточненный результат с вычислениями по методу Симпсона."
   ]
  },
  {
   "cell_type": "code",
   "execution_count": 1,
   "metadata": {},
   "outputs": [
    {
     "name": "stdout",
     "output_type": "stream",
     "text": [
      "[0.    0.125 0.25  0.375 0.5   0.625 0.75  0.875 1.   ]\n"
     ]
    }
   ],
   "source": [
    "import numpy as np\n",
    "\n",
    "x = np.arange(0,1+0.125,0.125)\n",
    "print(x)\n",
    "f = [0,0.021470,0.293050,0.494105,0.541341,0.516855,0.468617,0.416531,0.367879]"
   ]
  },
  {
   "cell_type": "code",
   "execution_count": 3,
   "metadata": {},
   "outputs": [
    {
     "data": {
      "image/png": "[encoded data removed]",
      "text/plain": [
       "<Figure size 864x576 with 1 Axes>"
      ]
     },
     "metadata": {
      "needs_background": "light"
     },
     "output_type": "display_data"
    }
   ],
   "source": [
    "import matplotlib.pyplot as plt\n",
    "\n",
    "fig, ax = plt.subplots(1, figsize = (12,8))\n",
    "\n",
    "ax.plot(x,f,linestyle='dashed',marker='.')\n",
    "ax.grid()"
   ]
  },
  {
   "cell_type": "markdown",
   "metadata": {},
   "source": [
    "<font size=\"5\">\n",
    "    $I_{h} = I + ch^{n}$<br>\n",
    "    $I_{2h} = I + c(2h)^{n}$<br>\n",
    "    $I_{2h} - I_{h} = ch^{n}[2^{n}-1]$<br>\n",
    "    $Δ = \\frac{I_{2h} - I_{h}}{2^{n}-1}$<br>\n",
    "    Экстраполяция Ричардсона : $I = I_{h} - Δ$<br>"
   ]
  },
  {
   "cell_type": "code",
   "execution_count": 4,
   "metadata": {},
   "outputs": [
    {
     "name": "stdout",
     "output_type": "stream",
     "text": [
      "Ih =  0.3669885625\n",
      "I2h =  0.37173687499999997\n",
      "Δ =  0.0015827708333333208\n",
      "I = Ih + Δ =  0.3654057916666667\n"
     ]
    }
   ],
   "source": [
    "Ih = 0\n",
    "for i in range(len(x)-1):\n",
    "    Ih += (x[i+1] - x[i])*(f[i+1] + f[i])/2\n",
    "print('Ih = ',Ih)\n",
    "\n",
    "I2h = 0\n",
    "i = 0\n",
    "while i < int(len(x)-1):\n",
    "    I2h += (x[i+2] - x[i])*(f[i+2] + f[i])/2\n",
    "    i += 2\n",
    "\n",
    "print('I2h = ',I2h)\n",
    "Δ = (I2h - Ih)/(2**2 - 1)\n",
    "print('Δ = ',Δ)\n",
    "I = Ih-Δ\n",
    "print('I = Ih + Δ = ',I)"
   ]
  },
  {
   "cell_type": "markdown",
   "metadata": {},
   "source": [
    "<font size=\"5\">\n",
    "    Формулы Симпсона :<br><br>\n",
    "    $I \\approx \\sum \\frac{h}{3}[f(x_{2k}) + 4f(x_{2k+1}) + f(x_{2k+2})]$<br>\n",
    "    $I \\approx \\frac{h}{3}$[first + 4(sum of odds) + 2(sum of evens) + last]<br>"
   ]
  },
  {
   "cell_type": "code",
   "execution_count": 5,
   "metadata": {},
   "outputs": [
    {
     "name": "stdout",
     "output_type": "stream",
     "text": [
      "I Simpson =  0.36540579166666665\n"
     ]
    }
   ],
   "source": [
    "Is = 0\n",
    "h = 0.125\n",
    "\n",
    "Is += f[0] + f[8]\n",
    "\n",
    "for k in range(1,int(len(x)/2)):\n",
    "    Is += 2*f[2*k]\n",
    "for k in range(0,int(len(x)/2)):\n",
    "    Is += 4*f[2*k+1]    \n",
    "    \n",
    "Is *= (h/3)\n",
    "print(\"I Simpson = \",Is)"
   ]
  },
  {
   "cell_type": "markdown",
   "metadata": {},
   "source": [
    "<font size=\"5\">\n",
    "    Интегралы по методу Симпсона и по экстраполяции Ричардсона совпадают с огромной точностью."
   ]
  },
  {
   "cell_type": "markdown",
   "metadata": {},
   "source": [
    "# 9.10г\n",
    "<font size=\"5\">\n",
    "    Вычислить несобственный интеграл с точностью до $10^{-4}$<br><br>\n",
    "    $\\large \\int^{1}_{0} \\frac{ln(x^{2} + 1)}{\\sqrt{x}} dx = 2\\sqrt{x}\\,ln(1+x^{2})|^{1}_{0} - \\int^{1}_{0}\\frac{4x\\sqrt{x}}{1+x^{2}}dx$<br><br>\n",
    "    $\\large = 2ln(2) -\\int^{1}_{0}\\frac{4x\\sqrt{x}}{1+x^{2}}dx$<br><br>"
   ]
  },
  {
   "cell_type": "markdown",
   "metadata": {},
   "source": [
    "<font size=\"5\">\n",
    "Интеграл справа посчитаем по формуле трапеции:<br>\n",
    "$I \\approx \\sum \\frac{dx}{2}[f(x_{k+1}) + f(x_{k})]$<br><br>"
   ]
  },
  {
   "cell_type": "code",
   "execution_count": 6,
   "metadata": {},
   "outputs": [
    {
     "name": "stdout",
     "output_type": "stream",
     "text": [
      "I =  0.3220889019918989\n",
      "Ответ совпадает с ответом в Вольфраме до 4го знака после запятой\n"
     ]
    }
   ],
   "source": [
    "import numpy as np\n",
    "J = 0\n",
    "dx = 10**(-5)\n",
    "x = np.linspace(0,1,10**5)\n",
    "\n",
    "#выбрал шаг 10**-5 потому-что для 10**-6 нужно подождать немного\n",
    "\n",
    "def f(x):\n",
    "    return 4*x*np.sqrt(x)/(1+x**2)\n",
    "\n",
    "y = f(x)\n",
    "for k in range(len(x)-1):\n",
    "    J += y[k+1] + y[k]\n",
    "\n",
    "J *= dx/2\n",
    "I = 2*np.log(2) - J\n",
    "print(\"I = \",I)\n",
    "print(\"Ответ совпадает с ответом в Вольфраме до 4го знака после запятой\")"
   ]
  },
  {
   "cell_type": "markdown",
   "metadata": {},
   "source": [
    "<font size=\"5\">\n",
    "Оценка погрешности формулы трапеций:<br>\n",
    "    $ ε \\leq \\frac{1}{12} max|f^{(2)}(x)|(b-a)h^{2}$<br>\n",
    "    где $f(x) = \\frac{4x\\sqrt{x}}{1+x^{2}}$<br><br>\n",
    "    оказывается, $|f^{(2)}(x)|$ имеет особенность в 0<br>\n",
    "    Найдём поправку к интегралу, с помощью процесса Эйкера<br><br>\n",
    "    $Δ \\approx ch^{p}$<br>\n",
    "    $I = I_{h} + ch^{p} = I_{2h} + c(2h)^{p} = I_{4h} + c(4h)^{p}$<br>\n",
    "    Отсюда $2^{p} = \\frac{I_{4h} - I_{2h}}{I_{2h} - I_{h}}$<br><br>\n",
    "    $\\large Δ = ch^{p} = \\frac{(I_{h} - I_{2h})^{2}}{2I_{2h} - I_{4h} - I_{h}}$<br>"
   ]
  },
  {
   "cell_type": "code",
   "execution_count": 10,
   "metadata": {},
   "outputs": [
    {
     "name": "stdout",
     "output_type": "stream",
     "text": [
      "Ih =  0.32207836626075625\n",
      "I2h =  0.32207856626082765\n",
      "I4h =  0.32207896626075794\n",
      "Δ =  -2.0000028389000432e-07\n",
      "I =  0.32207816626047236\n"
     ]
    }
   ],
   "source": [
    "Ih = 0\n",
    "I2h = 0\n",
    "I4h = 0\n",
    "\n",
    "k = 0\n",
    "while k < len(x)-1:\n",
    "    Ih += y[k+1] + y[k]\n",
    "    k += 1\n",
    "Ih *= dx/2\n",
    "Ih = 2*np.log(2) - Ih\n",
    "print(\"Ih = \",Ih)\n",
    "\n",
    "k = 0\n",
    "while k < len(x)-2:\n",
    "    I2h += y[k+2] + y[k]\n",
    "    k += 2\n",
    "I2h *= 2*dx/2\n",
    "I2h = 2*np.log(2) - I2h\n",
    "print(\"I2h = \",I2h)\n",
    "\n",
    "k = 0\n",
    "while k < len(x)-4:\n",
    "    I4h += y[k+4] + y[k]\n",
    "    k += 4\n",
    "I4h *= 4*dx/2\n",
    "I4h = 2*np.log(2) - I4h\n",
    "print(\"I4h = \",I4h)\n",
    "\n",
    "Δ = (Ih - I2h)**2\n",
    "Δ /= (2*I2h - I4h - Ih)\n",
    "print(\"Δ = \", Δ)\n",
    "print(\"I = \", Ih+Δ)"
   ]
  },
  {
   "cell_type": "code",
   "execution_count": 13,
   "metadata": {},
   "outputs": [
    {
     "name": "stdout",
     "output_type": "stream",
     "text": [
      "I с шагом 10^-8 =  0.32207827048131454\n"
     ]
    }
   ],
   "source": [
    "import numpy as np\n",
    "J = 0\n",
    "dx = 10**(-8)\n",
    "x = np.linspace(0,1,10**8)\n",
    "\n",
    "def f(x):\n",
    "    return 4*x*np.sqrt(x)/(1+x**2)\n",
    "\n",
    "y = f(x)\n",
    "for k in range(len(x)-1):\n",
    "    J += y[k+1] + y[k]\n",
    "\n",
    "J *= dx/2\n",
    "I = 2*np.log(2) - J\n",
    "print(\"I с шагом 10^-8 = \",I)"
   ]
  },
  {
   "cell_type": "markdown",
   "metadata": {},
   "source": [
    "<font size=\"5\">\n",
    "    $I (Wolfram) : 0.3220782598$<br>\n",
    "    $I (h = 10^{-8}) : 0.322078270$<br>\n",
    "    $I (h = 10^{-5}) : 0.322078366$<br>\n",
    "    $I (h = 10^{-5} + Эйкер) : 0.322078166$ <br>"
   ]
  },
  {
   "cell_type": "code",
   "execution_count": 15,
   "metadata": {},
   "outputs": [
    {
     "name": "stdout",
     "output_type": "stream",
     "text": [
      "1.062000000162655e-07\n",
      "9.379999998948563e-08\n"
     ]
    }
   ],
   "source": [
    "I = 0.3220782598\n",
    "i5 = 0.322078366\n",
    "i5e = 0.322078166\n",
    "\n",
    "print(abs(I-i5))\n",
    "print(abs(I-i5e))"
   ]
  },
  {
   "cell_type": "markdown",
   "metadata": {},
   "source": [
    "<font size=\"5\">\n",
    "    Поправка Эйкера чуть чуть улучшила результат"
   ]
  },
  {
   "cell_type": "markdown",
   "metadata": {},
   "source": [
    "# 9.13б\n",
    "<font size=\"5\">\n",
    "    Функция f(x) задана своими сеточными значениями. Найти $\\int^{b}_{a}\\,f(x)sin(kx)dx $ построением сплайна для аппроксимации f(x)<br><br>\n",
    "    k = 80"
   ]
  },
  {
   "cell_type": "code",
   "execution_count": 17,
   "metadata": {},
   "outputs": [],
   "source": [
    "import matplotlib.pyplot as plt\n",
    "import numpy as np\n",
    "xd = [0.1,0.5,0.9,1.3,1.7]\n",
    "f = [-2.3026,-0.69315,-.10536,.26236,.53063]\n",
    "\n",
    "#Cubic spline"
   ]
  },
  {
   "cell_type": "markdown",
   "metadata": {},
   "source": [
    "## Cubic spline\n",
    "<font size=\"5\">\n",
    "    <br>\n",
    "    $S_{0}(x) = a_{0}(x-x_{0})^{3} + b_{0}(x-x_{0})^{2} +c_{0}(x-x_{0}) + y_{0}$<br>\n",
    "    ...<br>\n",
    "    $S_{n-1}(x) = a_{n-1}(x-x_{n-1})^{3} + b_{n-1}(x-x_{n-1})^{2} +c_{n-1}(x-x_{n-1}) + y_{n-1}$<br><br><br>\n",
    "    $1)\\,S_{i}(x_{i}) = y_{i}$<br>\n",
    "    $2)\\, S_{i-1}(x_{i}) = S_{i}(x_{i})$<br>\n",
    "    $3)\\, S'_{i-1}(x_{i}) = S'_{i}(x_{i})$<br>\n",
    "    $4)\\,S''_{i-1}(x_{i}) = S''_{i}(x_{i})$<br>\n",
    "    $5)\\,S''_{0}(x_{0}) = S''_{n-1}(x_{n-1}) = 0$ (natural spline) <br><br>"
   ]
  },
  {
   "cell_type": "markdown",
   "metadata": {},
   "source": [
    "<font size=\"5\">\n",
    "    $$ \\begin{bmatrix}\n",
    "    1 & (x_{1} - x_{0}) & 0 & ...\\,\\\\\n",
    "    0 & 2(x_{2}- x_{0}) & (x_{2} - x_{1}) & ...\\,\\\\\n",
    "    0 & (x_{1} - x_{0}) & 2(x_{3}- x_{1}) & ...\\,\\\\\n",
    "    0 & 0 & (x_{2} - x_{1}) & ...\\\\\n",
    "    \\end{bmatrix} \n",
    "    \\begin{bmatrix} S''_{0} \\\\ S''_{1} \\\\ ... \\end{bmatrix} = 6\n",
    "\\begin{bmatrix}\n",
    "0 \\\\\n",
    "\\frac{y_{2} - y_{1}}{x_{2} - x_{1}} - \\frac{y_{1} - y_{0}}{x_{1} - x_{0}}\\\\\n",
    "...\n",
    "\\end{bmatrix} $$ <br>"
   ]
  },
  {
   "cell_type": "markdown",
   "metadata": {},
   "source": [
    "<font size=\"5\">\n",
    "    <br>\n",
    "    $S''_{k}(x_{k}) = 2b$<br><br>\n",
    "    $S''_{i-1}(x_{i}) = S''_{i}(x_{i})$<br>\n",
    "    $6a_{k-1}(x_{k} - x_{k-1}) + 2b_{k-1} = 2b_{k}$<br>\n",
    "    $a_{k-1} = \\frac{2(b_{k} - b_{k-1})}{6(x_{k} - x_{k-1})}$<br><br>\n",
    "    $S'_{i-1}(x_{i}) = S'_{i}(x_{i})$<br>\n",
    "    $3a_{k-1}(x_{k} - x_{k-1})^{2} + 2b_{k-1}(x_{k} - x_{k-1}) + c_{k-1} = c_{k}$<br>"
   ]
  },
  {
   "cell_type": "code",
   "execution_count": 18,
   "metadata": {},
   "outputs": [
    {
     "name": "stdout",
     "output_type": "stream",
     "text": [
      "[[1.  0.4 0.  0.  0. ]\n",
      " [0.  1.6 0.4 0.  0. ]\n",
      " [0.  0.4 1.6 0.4 0. ]\n",
      " [0.  0.  0.4 1.6 0. ]\n",
      " [0.  0.  0.  0.4 1. ]]\n",
      "[  0.      -15.3249   -3.30105  -1.49175   0.     ]\n",
      "[ 3.89573304 -9.73933259  0.64508036 -1.09361384  0.43744554]\n"
     ]
    },
    {
     "data": {
      "image/png": "[encoded data removed]",
      "text/plain": [
       "<Figure size 864x576 with 1 Axes>"
      ]
     },
     "metadata": {
      "needs_background": "light"
     },
     "output_type": "display_data"
    }
   ],
   "source": [
    "n = len(xd)\n",
    "M = np.zeros((n,n))\n",
    "M[0][0] = 1\n",
    "M[n-1][n-1] = 1\n",
    "for j in range(1,n-1):\n",
    "    M[j-1][j] = xd[j] - xd[j-1]\n",
    "    M[j][j] = 2*(xd[j+1] - xd[j-1])\n",
    "    M[j+1][j] = xd[j] - xd[j-1]\n",
    "            \n",
    "print(M)\n",
    "\n",
    "v = np.zeros(n)\n",
    "for j in range(1,n-1):\n",
    "    v[j] = (f[j+1] - f[j])/(xd[j+1] - xd[j])\n",
    "    v[j] -= (f[j] - f[j-1])/(xd[j] - xd[j-1])\n",
    "    v[j] *= 6\n",
    "print(v)\n",
    "import numpy as np\n",
    "S = np.linalg.solve(M,v)\n",
    "print(S)\n",
    "\n",
    "a = np.zeros(n)\n",
    "b = np.zeros(n)\n",
    "c = np.zeros(n)\n",
    "\n",
    "for j in range(len(S)-1):\n",
    "    b[j] = S[j]/2\n",
    "for j in range(len(S)-1):\n",
    "    a[j] = 2*(b[j+1] - b[j])\n",
    "    a[j] /= 6*(xd[j+1] - xd[j])\n",
    "for j in range(1,len(S)-1):\n",
    "    #c[j] = 3*a[j-1]*(xd[j]-xd[j-1])**2 + 2*b[j-1]*(xd[j]-xd[j-1]) + c[j-1]\n",
    "    c[j] = (f[j+1]-f[j])/(xd[j+1] - xd[j])\n",
    "    c[j] -= (xd[j+1] - xd[j])*(2*b[j] + b[j+1])/3\n",
    "    \n",
    "c[0] = f[1] - a[0]*(xd[1]-xd[0])**3 - b[0]*(xd[1]-xd[0])**2 - f[0]\n",
    "c[0] /= (xd[1]-xd[0])\n",
    "\n",
    "def fk(x,k):\n",
    "    return a[k]*(x-x[k])**3 + b[k]*(x-x[k])**2 + c[k]*(x-x[k]) + f[k]\n",
    "\n",
    "ox = []\n",
    "for j in range(n-1):\n",
    "    ox.append(np.linspace(xd[j],xd[j+1],100))  \n",
    "    \n",
    "y = []\n",
    "for k in range(n-1):\n",
    "    y.append(fk(ox[k],k))\n",
    "#print(y)\n",
    "\n",
    "\n",
    "fig, ax = plt.subplots(1, figsize = (12,8))\n",
    "\n",
    "ax.scatter(xd,f,color='k');\n",
    "ax.grid()\n",
    "for k in range(n-1):\n",
    "    ax.plot(ox[k],y[k])"
   ]
  },
  {
   "cell_type": "code",
   "execution_count": 20,
   "metadata": {},
   "outputs": [
    {
     "data": {
      "image/png": "[encoded data removed]",
      "text/plain": [
       "<Figure size 864x576 with 1 Axes>"
      ]
     },
     "metadata": {
      "needs_background": "light"
     },
     "output_type": "display_data"
    }
   ],
   "source": [
    "ox = []\n",
    "for j in range(n-1):\n",
    "    ox.append(np.linspace(xd[j],xd[j+1],10**6))    \n",
    "\n",
    "y = []\n",
    "for k in range(n-1):\n",
    "    y.append(np.sin(80*ox[k])*fk(ox[k],k))\n",
    "\n",
    "\n",
    "fig, ax = plt.subplots(1, figsize = (12,8))\n",
    "\n",
    "for k in range(n-1):\n",
    "    ax.plot(ox[k],y[k])\n",
    "\n",
    "ax.grid()"
   ]
  },
  {
   "cell_type": "code",
   "execution_count": 21,
   "metadata": {},
   "outputs": [
    {
     "name": "stdout",
     "output_type": "stream",
     "text": [
      "0.01891583567078851\n"
     ]
    }
   ],
   "source": [
    "I = 0\n",
    "h = 10**(-6)  \n",
    "for k in range(n-1):\n",
    "    for i in range(len(ox[k])-1):\n",
    "        I += y[k][i+1] + y[k][i]\n",
    "\n",
    "I *= h/2\n",
    "print(I)"
   ]
  },
  {
   "cell_type": "markdown",
   "metadata": {},
   "source": [
    "# 8.12 з\n",
    "<font size=\"5\">\n",
    "    Построить квадратуру Гаусса-Кристоффеля с двумя узлами для вычисления интеграла:<br>\n",
    "    $\\int^{1}_{-1}\\,\\sqrt{1 - x^{2}}\\,f(x)dx$"
   ]
  },
  {
   "cell_type": "markdown",
   "metadata": {},
   "source": [
    "<font size=\"5\">\n",
    "    $(f(x),g(x)) = \\int^{1}_{-1}\\,\\sqrt{1 - x^{2}}\\,f(x)g(x)dx$<br><br>\n",
    "    Ортогонализация Грамма-Шмидта:<br>\n",
    "    $Q_{0} = 1,\\,Q_{1} = x,\\,\\tilde{Q_{2}} = x^{2}$<br>\n",
    "    Так как функция чётная, $Q_{0}$ и $Q_{1}$ уже ортогональны.<br><br>\n",
    "    $Q_{2} = x^{2} - \\frac{(\\tilde{Q_{2}},Q_{1})}{(Q_{1},Q_{1})}Q_{1} - \\frac{(\\tilde{Q_{2}},Q_{0})}{(Q_{0},Q_{0})}Q_{0}$<br><br>\n",
    "    Посчитаем скалярные произведения:<br>"
   ]
  },
  {
   "cell_type": "markdown",
   "metadata": {},
   "source": [
    "<font size=\"5\">\n",
    "    $(Q_{0},Q_{0}) = \\int^{1}_{-1}\\sqrt{1-x^{2}}dx = π/2$<br>\n",
    "    $(Q_{1},Q_{1}) = \\int^{1}_{-1}x^{2}\\sqrt{1-x^{2}}dx = π/8$<br>\n",
    "    $(\\tilde{Q_{2}},Q_{0}) = \\int^{1}_{-1}x^{2}\\sqrt{1-x^{2}}dx = π/8$<br>\n",
    "    $(\\tilde{Q_{2}},Q_{1}) = \\int^{1}_{-1}x^{3}\\sqrt{1-x^{2}}dx = 0$<br><br>"
   ]
  },
  {
   "cell_type": "markdown",
   "metadata": {},
   "source": [
    "<font size=\"5\">\n",
    "    $Q_{2} = x^{2} - \\frac{1}{4}$<br> \n",
    "    Узлы квадратуры : $x_{12} = \\pm \\frac{1}{2}$<br>"
   ]
  },
  {
   "cell_type": "markdown",
   "metadata": {},
   "source": [
    "<font size=\"5\">\n",
    "    $c_{i} = \\int^{1}_{-1}\\,\\frac{(x-x_{1})(x-x_{2})...}{(x_{i}-x_{1})(x_{i}-x_{2})...}dx$<br><br>\n",
    "    $c_{1} = \\int^{1}_{-1}\\, \\frac{x+1/2}{1/2 - (-1/2)}dx\n",
    "    = \\int^{1}_{-1}\\, x + 1/2dx = 1$<br>\n",
    "    $c_{2} = \\int^{1}_{-1}\\, \\frac{x-1/2}{-1/2 - (1/2)}dx\n",
    "    = \\int^{1}_{-1}\\, -x + 1/2dx = 1$<br>"
   ]
  },
  {
   "cell_type": "markdown",
   "metadata": {},
   "source": [
    "<font size=\"5\">\n",
    "    $\\int^{1}_{-1}\\,\\sqrt{1 - x^{2}}\\,f(x)dx = \\sum c_{i}f(x_{i})$<br>"
   ]
  },
  {
   "cell_type": "code",
   "execution_count": null,
   "metadata": {},
   "outputs": [],
   "source": []
  }
 ],
 "metadata": {
  "hide_input": false,
  "kernelspec": {
   "display_name": "Python 3 (ipykernel)",
   "language": "python",
   "name": "python3"
  },
  "language_info": {
   "codemirror_mode": {
    "name": "ipython",
    "version": 3
   },
   "file_extension": ".py",
   "mimetype": "text/x-python",
   "name": "python",
   "nbconvert_exporter": "python",
   "pygments_lexer": "ipython3",
   "version": "3.9.12"
  }
 },
 "nbformat": 4,
 "nbformat_minor": 4
}
