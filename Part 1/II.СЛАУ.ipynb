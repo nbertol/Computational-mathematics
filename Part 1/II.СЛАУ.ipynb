{
 "cells": [
  {
   "cell_type": "markdown",
   "metadata": {},
   "source": [
    "# II.ЭЛЕМЕНТЫ ПРИКЛАДНОЙ ЛИНЕЙНОЙ АЛГЕБРЫ"
   ]
  },
  {
   "cell_type": "markdown",
   "metadata": {},
   "source": [
    "![1.png](1.png)"
   ]
  },
  {
   "cell_type": "markdown",
   "metadata": {},
   "source": [
    "![2.png](2.png)"
   ]
  },
  {
   "cell_type": "code",
   "execution_count": 37,
   "metadata": {},
   "outputs": [
    {
     "name": "stdout",
     "output_type": "stream",
     "text": [
      "[1, 0.5, 0.2222222222222222, 0.125, 0.08, 0.05555555555555555, 0.04081632653061224, 0.03125, 0.024691358024691357, 0.02, 0.01652892561983471, 0.013888888888888888, 0.011834319526627219, 0.01020408163265306, 0.008888888888888889, 0.0078125, 0.006920415224913495, 0.006172839506172839, 0.00554016620498615, -6.666666666666667]\n",
      "[[ 1.  0.  0.  0.  0.  0.  0.  0.  0.  0.  0.  0.  0.  0.  0.  0.  0.  0.\n",
      "   0.  0.]\n",
      " [ 1. -2.  1.  0.  0.  0.  0.  0.  0.  0.  0.  0.  0.  0.  0.  0.  0.  0.\n",
      "   0.  0.]\n",
      " [ 0.  1. -2.  1.  0.  0.  0.  0.  0.  0.  0.  0.  0.  0.  0.  0.  0.  0.\n",
      "   0.  0.]\n",
      " [ 0.  0.  1. -2.  1.  0.  0.  0.  0.  0.  0.  0.  0.  0.  0.  0.  0.  0.\n",
      "   0.  0.]\n",
      " [ 0.  0.  0.  1. -2.  1.  0.  0.  0.  0.  0.  0.  0.  0.  0.  0.  0.  0.\n",
      "   0.  0.]\n",
      " [ 0.  0.  0.  0.  1. -2.  1.  0.  0.  0.  0.  0.  0.  0.  0.  0.  0.  0.\n",
      "   0.  0.]\n",
      " [ 0.  0.  0.  0.  0.  1. -2.  1.  0.  0.  0.  0.  0.  0.  0.  0.  0.  0.\n",
      "   0.  0.]\n",
      " [ 0.  0.  0.  0.  0.  0.  1. -2.  1.  0.  0.  0.  0.  0.  0.  0.  0.  0.\n",
      "   0.  0.]\n",
      " [ 0.  0.  0.  0.  0.  0.  0.  1. -2.  1.  0.  0.  0.  0.  0.  0.  0.  0.\n",
      "   0.  0.]\n",
      " [ 0.  0.  0.  0.  0.  0.  0.  0.  1. -2.  1.  0.  0.  0.  0.  0.  0.  0.\n",
      "   0.  0.]\n",
      " [ 0.  0.  0.  0.  0.  0.  0.  0.  0.  1. -2.  1.  0.  0.  0.  0.  0.  0.\n",
      "   0.  0.]\n",
      " [ 0.  0.  0.  0.  0.  0.  0.  0.  0.  0.  1. -2.  1.  0.  0.  0.  0.  0.\n",
      "   0.  0.]\n",
      " [ 0.  0.  0.  0.  0.  0.  0.  0.  0.  0.  0.  1. -2.  1.  0.  0.  0.  0.\n",
      "   0.  0.]\n",
      " [ 0.  0.  0.  0.  0.  0.  0.  0.  0.  0.  0.  0.  1. -2.  1.  0.  0.  0.\n",
      "   0.  0.]\n",
      " [ 0.  0.  0.  0.  0.  0.  0.  0.  0.  0.  0.  0.  0.  1. -2.  1.  0.  0.\n",
      "   0.  0.]\n",
      " [ 0.  0.  0.  0.  0.  0.  0.  0.  0.  0.  0.  0.  0.  0.  1. -2.  1.  0.\n",
      "   0.  0.]\n",
      " [ 0.  0.  0.  0.  0.  0.  0.  0.  0.  0.  0.  0.  0.  0.  0.  1. -2.  1.\n",
      "   0.  0.]\n",
      " [ 0.  0.  0.  0.  0.  0.  0.  0.  0.  0.  0.  0.  0.  0.  0.  0.  1. -2.\n",
      "   1.  0.]\n",
      " [ 0.  0.  0.  0.  0.  0.  0.  0.  0.  0.  0.  0.  0.  0.  0.  0.  0.  1.\n",
      "  -2.  1.]\n",
      " [ 1.  1.  1.  1.  1.  1.  1.  1.  1.  1.  1.  1.  1.  1.  1.  1.  1.  1.\n",
      "   1.  1.]]\n"
     ]
    }
   ],
   "source": [
    "import sys\n",
    "import numpy as np\n",
    "import array\n",
    "#параметры печати\n",
    "np.set_printoptions(threshold=sys.maxsize)\n",
    "\n",
    "#Возвращает массив\n",
    "A = np.zeros((20,20))\n",
    "\n",
    "#диапазон\n",
    "f = []\n",
    "for i in range(20):\n",
    "    if i == 0:\n",
    "        f.append(1)\n",
    "    if 0 < i and i < 19:\n",
    "        f.append(2/(i+1)**2)\n",
    "    if i == 19:\n",
    "        f.append(-(i+1)/3)\n",
    "print(f)\n",
    "\n",
    "\n",
    "# i - line     j - column\n",
    "for i in range(20):\n",
    "    for j in range(20):\n",
    "        if i == 0:\n",
    "            A[i][i] = 1\n",
    "        if 0 < i and i < 19: \n",
    "            if j in range(i-1,i+2):\n",
    "                A[i][j] = 1\n",
    "            if i == j:\n",
    "                A[i][j] = -2\n",
    "        if i == 19:\n",
    "            A[i][j] = 1\n",
    "            \n",
    "print(A)"
   ]
  },
  {
   "cell_type": "markdown",
   "metadata": {},
   "source": [
    "## solution"
   ]
  },
  {
   "cell_type": "code",
   "execution_count": 38,
   "metadata": {},
   "outputs": [
    {
     "name": "stdout",
     "output_type": "stream",
     "text": [
      "[ 1.          0.00237946 -0.49524109 -0.77063941 -0.92103773 -0.99143605\n",
      " -1.00627881 -0.98030525 -0.92308169 -0.84116677 -0.73925185 -0.62080801\n",
      " -0.48847527 -0.34430822 -0.18993708 -0.02667706  0.14439546  0.3223884\n",
      "  0.50655418  0.69626013]\n"
     ]
    }
   ],
   "source": [
    "x0 = np.linalg.solve(A,f)\n",
    "print(x0)"
   ]
  },
  {
   "cell_type": "markdown",
   "metadata": {},
   "source": [
    "$\\Large λ_{max}, λ_{min}$"
   ]
  },
  {
   "cell_type": "code",
   "execution_count": 39,
   "metadata": {},
   "outputs": [
    {
     "name": "stdout",
     "output_type": "stream",
     "text": [
      "1.4655712313402103 -3.9727226068054424\n"
     ]
    }
   ],
   "source": [
    "#Вычислить собственные значения и правые собственные векторы квадратного массива.\n",
    "λ = np.linalg.eig(A)[0]\n",
    "print(max(λ),min(λ))"
   ]
  },
  {
   "cell_type": "markdown",
   "metadata": {},
   "source": [
    "<font size=\"5\">\n",
    "Число обусловленности $ μ = ||A|| ||A^{-1}||$"
   ]
  },
  {
   "cell_type": "code",
   "execution_count": 40,
   "metadata": {},
   "outputs": [
    {
     "name": "stdout",
     "output_type": "stream",
     "text": [
      "120.5659745540561\n"
     ]
    }
   ],
   "source": [
    "A_inv = np.linalg.inv(A)\n",
    "norma_A = np.linalg.norm(A,ord=2)\n",
    "norma_A_inv = np.linalg.norm(A_inv,ord=2)\n",
    "# 2-norm = Euclidean\n",
    "\n",
    "μ = norma_A*norma_A_inv\n",
    "print(μ)"
   ]
  },
  {
   "cell_type": "code",
   "execution_count": 41,
   "metadata": {},
   "outputs": [],
   "source": [
    "L = np.zeros((20,20))\n",
    "D = np.zeros((20,20))\n",
    "U = np.zeros((20,20))\n",
    "\n",
    "#диапазон\n",
    "for i in range(20):\n",
    "    for j in range(20):\n",
    "        if i == j:\n",
    "            D[i][j] = A[i][j]\n",
    "        if i > j:\n",
    "            L[i][j] = A[i][j]\n",
    "        if i < j:\n",
    "            U[i][j] = A[i][j]"
   ]
  },
  {
   "cell_type": "markdown",
   "metadata": {},
   "source": [
    "## Метод Зейделя\n",
    "<font size=\"5\">\n",
    "    СЛАУ может быть переписана в виде : Lx + Dx + Ux = f <br>\n",
    "    Метод Зейделя : $Lx_{k+1} + Dx_{k+1} + Ux_{k} = f$<br>"
   ]
  },
  {
   "cell_type": "code",
   "execution_count": 50,
   "metadata": {},
   "outputs": [
    {
     "name": "stdout",
     "output_type": "stream",
     "text": [
      "Количество итераций : 341\n",
      "Решение по методу Зейделя: [ 1.          0.00237946 -0.49524109 -0.77063941 -0.92103773 -0.99143605\n",
      " -1.00627881 -0.98030525 -0.92308169 -0.84116677 -0.73925185 -0.62080801\n",
      " -0.48847527 -0.34430822 -0.18993708 -0.02667706  0.14439546  0.3223884\n",
      "  0.50655418  0.69626013]\n",
      "Погрешность : 9.193847351336396e-13\n",
      "Execution time (ms):  5.5349000003843685\n"
     ]
    }
   ],
   "source": [
    "x = np.zeros(20)\n",
    "\n",
    "LD_inv = np.linalg.inv(L+D)\n",
    "\n",
    "n = 0\n",
    "converge = False\n",
    "err = 0.\n",
    "import time\n",
    "tic = time.perf_counter()\n",
    "while not converge:\n",
    "    xx = np.copy(x)\n",
    "    \n",
    "    B = f - np.dot(U,xx)\n",
    "    xx = np.dot(LD_inv,B)\n",
    "    \n",
    "    err = np.linalg.norm(xx-x0,ord=2)\n",
    "    converge =  err < 1e-12\n",
    "    n += 1\n",
    "    x = xx\n",
    "toc = time.perf_counter()\n",
    "print('Количество итераций :', n)\n",
    "print('Решение по методу Зейделя:', x)\n",
    "print('Погрешность :', err)\n",
    "print('Execution time (ms): ',10**3 * (toc-tic))"
   ]
  },
  {
   "cell_type": "markdown",
   "metadata": {},
   "source": [
    "## Метод Гаусса"
   ]
  },
  {
   "cell_type": "code",
   "execution_count": 49,
   "metadata": {},
   "outputs": [
    {
     "name": "stdout",
     "output_type": "stream",
     "text": [
      "[ 1.          0.00237946 -0.49524109 -0.77063941 -0.92103773 -0.99143605\n",
      " -1.00627881 -0.98030525 -0.92308169 -0.84116677 -0.73925185 -0.62080801\n",
      " -0.48847527 -0.34430822 -0.18993708 -0.02667706  0.14439546  0.3223884\n",
      "  0.50655418  0.69626013]\n",
      "Погрешность : 7.301117882556575e-15\n",
      "Execution time (ms):  1.5309000000343076\n"
     ]
    }
   ],
   "source": [
    "import time\n",
    "\n",
    "a = A\n",
    "b = f\n",
    "\n",
    "\n",
    "def gauss(a,b):\n",
    "    a = np.array(a,float)\n",
    "    b = np.array(b,float)\n",
    "    n = len(b)\n",
    "    \n",
    "    for k in range(n):\n",
    "        if np.fabs(a[k,k]) < 1.0e-12:\n",
    "            for i in range(k+1,n):\n",
    "                if np.fabs(a[i,k]) > np.fabs(a[k,k]):\n",
    "                    for j in range(k,n):\n",
    "                        a[k,j],a[i,j] = a[i,j],a[k,j]\n",
    "                    b[k],b[i] = b[i],b[k]\n",
    "                    break\n",
    "        pivot = a[k,k]\n",
    "        #division on the pivot row\n",
    "        for j in range(k,n):\n",
    "            a[k,j] /= pivot\n",
    "        b[k] /= pivot\n",
    "\n",
    "        for i in range(n):\n",
    "            if i == k or a[i,k] == 0: continue\n",
    "            factor = a[i,k]\n",
    "            for j in range(k,n):\n",
    "                a[i,j] -= factor * a[k,j]\n",
    "            b[i] -= factor * b[k]\n",
    "    return b,a\n",
    "\n",
    "tic = time.perf_counter()\n",
    "answer,aa = gauss(a,b)\n",
    "toc = time.perf_counter()\n",
    "print(answer)\n",
    "\n",
    "err = np.linalg.norm(answer-x0,ord=2)\n",
    "print('Погрешность :', err)\n",
    "print('Execution time (ms): ',10**3 * (toc-tic))"
   ]
  },
  {
   "cell_type": "code",
   "execution_count": null,
   "metadata": {},
   "outputs": [],
   "source": []
  }
 ],
 "metadata": {
  "kernelspec": {
   "display_name": "Python 3 (ipykernel)",
   "language": "python",
   "name": "python3"
  },
  "language_info": {
   "codemirror_mode": {
    "name": "ipython",
    "version": 3
   },
   "file_extension": ".py",
   "mimetype": "text/x-python",
   "name": "python",
   "nbconvert_exporter": "python",
   "pygments_lexer": "ipython3",
   "version": "3.9.12"
  }
 },
 "nbformat": 4,
 "nbformat_minor": 4
}
